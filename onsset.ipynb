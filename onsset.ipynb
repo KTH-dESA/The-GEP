{
 "cells": [
  {
   "cell_type": "markdown",
   "metadata": {},
   "source": [
    "# Welcome to OnSSET\n",
    "\n",
    "This notebook has been designed by KTH dESA in order to run the Open Source Spatial Electrification Tool (OnSSET) in few descernible steps. Using this Notebook and the onsset.py code, the user can access any part of the code behind the tool and modify it according to his/her preferences. \n",
    "\n",
    "For any further questions or clarification please refer to the tool's <a href=\"http://onsset-manual.readthedocs.io/en/latest/index.html\" target=\"_blank\">Manual</a>, or ask any of the worhshop instructors. Enjoy!"
   ]
  },
  {
   "cell_type": "markdown",
   "metadata": {},
   "source": [
    "# Initial inputs\n",
    "\n",
    "Before we proceed, please choose a country for the analysis, as well as the start and end year of the modelling period and some other general inputs. \n"
   ]
  },
  {
   "cell_type": "code",
   "execution_count": 18,
   "metadata": {},
   "outputs": [],
   "source": [
    "country = 'Malawi'   ### Simply write the name of the selected country within the brackets\n",
    "\n",
    "start_year = 2018\n",
    "end_year = 2030\n",
    "\n",
    "from onsset import *\n",
    "\n",
    "coordinate_units = 1000  # 1000 if coordinates are in m, 1 if coordinates are in km\n",
    "discount_rate = 0.08"
   ]
  },
  {
   "cell_type": "markdown",
   "metadata": {},
   "source": [
    "# Electrification targets\n",
    "\n",
    "Next, define the electrification targets for the end year, as well as potential intermediate targets"
   ]
  },
  {
   "cell_type": "code",
   "execution_count": 19,
   "metadata": {},
   "outputs": [],
   "source": [
    "### Example: The below will run the analysis in two steps. From 2018 to 2023, and then 2023 to 2030.\n",
    "### The electrification target in 2023 is 80% (0.8) and in 2030 is 100% (1).\n",
    "### Finally, the length of the first step is 5 years and the second step is 7 years.\n",
    "yearsofanalysis = [2023, 2030]\n",
    "eleclimits = {2023: 0.8, 2030: 1}\n",
    "time_steps = {2023: 5, 2030: 7}"
   ]
  },
  {
   "cell_type": "markdown",
   "metadata": {},
   "source": [
    "# Step 1 and 2. GIS data collection, processing and import\n",
    "\n",
    "OnSSET is a GIS based tool and its proper function depends heavily on the diligent preparation and calibration of the necessary geospatial data. Documentation on GIS processing in regards to OnSSET can be found <a href=\"http://onsset-manual.readthedocs.io/en/latest/data_acquisition.html\" target=\"_blank\">here</a>.\n",
    "\n",
    "Before you proceed, please make sure that the .csv file containing all the appropriate input data is properly created and uploaded on OnSSET.org space.\n",
    "\n",
    "**Note!** The .csv file shall be named after the country selected for the analysis (e.g. Ghana.csv or Madagascar.csv)."
   ]
  },
  {
   "cell_type": "code",
   "execution_count": 20,
   "metadata": {
    "scrolled": false
   },
   "outputs": [
    {
     "name": "stderr",
     "output_type": "stream",
     "text": [
      "2019-04-12 12:03:51,764\t\tEnsure that columns that are supposed to be numeric are numeric\n",
      "2019-04-12 12:03:51,797\t\tAdd column with country name\n",
      "2019-04-12 12:03:51,800\t\tAdding column \"ElectrificationOrder\"\n",
      "2019-04-12 12:03:51,802\t\tReplace null values with zero\n",
      "2019-04-12 12:03:51,836\t\tSort by country, Y and X\n"
     ]
    },
    {
     "data": {
      "text/markdown": [
       "#### The Malawi.csv file has been imported correctly. Here is a preview:"
      ],
      "text/plain": [
       "<IPython.core.display.Markdown object>"
      ]
     },
     "metadata": {},
     "output_type": "display_data"
    },
    {
     "data": {
      "text/html": [
       "<div>\n",
       "<style scoped>\n",
       "    .dataframe tbody tr th:only-of-type {\n",
       "        vertical-align: middle;\n",
       "    }\n",
       "\n",
       "    .dataframe tbody tr th {\n",
       "        vertical-align: top;\n",
       "    }\n",
       "\n",
       "    .dataframe thead th {\n",
       "        text-align: right;\n",
       "    }\n",
       "</style>\n",
       "<table border=\"1\" class=\"dataframe\">\n",
       "  <thead>\n",
       "    <tr style=\"text-align: right;\">\n",
       "      <th></th>\n",
       "      <th>Country</th>\n",
       "      <th>Pop</th>\n",
       "      <th>NightLights</th>\n",
       "      <th>TravelHours</th>\n",
       "      <th>GHI</th>\n",
       "      <th>WindVel</th>\n",
       "      <th>Hydropower</th>\n",
       "      <th>HydropowerDist</th>\n",
       "    </tr>\n",
       "  </thead>\n",
       "  <tbody>\n",
       "    <tr>\n",
       "      <th>1322</th>\n",
       "      <td>Malawi</td>\n",
       "      <td>81.07094</td>\n",
       "      <td>0.00000</td>\n",
       "      <td>1.36667</td>\n",
       "      <td>2034</td>\n",
       "      <td>4.89261</td>\n",
       "      <td>221</td>\n",
       "      <td>40.12344</td>\n",
       "    </tr>\n",
       "    <tr>\n",
       "      <th>132035</th>\n",
       "      <td>Malawi</td>\n",
       "      <td>4.24236</td>\n",
       "      <td>0.00000</td>\n",
       "      <td>1.48333</td>\n",
       "      <td>1990</td>\n",
       "      <td>3.32294</td>\n",
       "      <td>193</td>\n",
       "      <td>41.36674</td>\n",
       "    </tr>\n",
       "    <tr>\n",
       "      <th>68029</th>\n",
       "      <td>Malawi</td>\n",
       "      <td>38.04987</td>\n",
       "      <td>0.00000</td>\n",
       "      <td>1.75000</td>\n",
       "      <td>2092</td>\n",
       "      <td>4.52593</td>\n",
       "      <td>265</td>\n",
       "      <td>11.59964</td>\n",
       "    </tr>\n",
       "    <tr>\n",
       "      <th>4207</th>\n",
       "      <td>Malawi</td>\n",
       "      <td>12.09994</td>\n",
       "      <td>0.00000</td>\n",
       "      <td>2.00000</td>\n",
       "      <td>2086</td>\n",
       "      <td>4.70861</td>\n",
       "      <td>221</td>\n",
       "      <td>43.46041</td>\n",
       "    </tr>\n",
       "    <tr>\n",
       "      <th>133313</th>\n",
       "      <td>Malawi</td>\n",
       "      <td>5.90520</td>\n",
       "      <td>0.00000</td>\n",
       "      <td>1.65000</td>\n",
       "      <td>1953</td>\n",
       "      <td>3.97807</td>\n",
       "      <td>193</td>\n",
       "      <td>38.68776</td>\n",
       "    </tr>\n",
       "    <tr>\n",
       "      <th>157518</th>\n",
       "      <td>Malawi</td>\n",
       "      <td>34.27693</td>\n",
       "      <td>0.10385</td>\n",
       "      <td>0.95000</td>\n",
       "      <td>2031</td>\n",
       "      <td>3.87977</td>\n",
       "      <td>146</td>\n",
       "      <td>0.86032</td>\n",
       "    </tr>\n",
       "    <tr>\n",
       "      <th>180193</th>\n",
       "      <td>Malawi</td>\n",
       "      <td>7.37974</td>\n",
       "      <td>0.00000</td>\n",
       "      <td>1.06667</td>\n",
       "      <td>2007</td>\n",
       "      <td>3.78097</td>\n",
       "      <td>375</td>\n",
       "      <td>38.40082</td>\n",
       "    </tr>\n",
       "  </tbody>\n",
       "</table>\n",
       "</div>"
      ],
      "text/plain": [
       "       Country       Pop  NightLights  TravelHours   GHI  WindVel  Hydropower  \\\n",
       "1322    Malawi  81.07094      0.00000      1.36667  2034  4.89261         221   \n",
       "132035  Malawi   4.24236      0.00000      1.48333  1990  3.32294         193   \n",
       "68029   Malawi  38.04987      0.00000      1.75000  2092  4.52593         265   \n",
       "4207    Malawi  12.09994      0.00000      2.00000  2086  4.70861         221   \n",
       "133313  Malawi   5.90520      0.00000      1.65000  1953  3.97807         193   \n",
       "157518  Malawi  34.27693      0.10385      0.95000  2031  3.87977         146   \n",
       "180193  Malawi   7.37974      0.00000      1.06667  2007  3.78097         375   \n",
       "\n",
       "        HydropowerDist  \n",
       "1322          40.12344  \n",
       "132035        41.36674  \n",
       "68029         11.59964  \n",
       "4207          43.46041  \n",
       "133313        38.68776  \n",
       "157518         0.86032  \n",
       "180193        38.40082  "
      ]
     },
     "metadata": {},
     "output_type": "display_data"
    }
   ],
   "source": [
    "onsseter = SettlementProcessor('{x}.csv'.format(x = country))\n",
    "\n",
    "onsseter.condition_df(country)\n",
    "\n",
    "display(Markdown('#### The {c}.csv file has been imported correctly. Here is a preview:'.format(c=country)))\n",
    "display(onsseter.df[['Country','Pop','NightLights','TravelHours','GHI','WindVel','Hydropower','HydropowerDist']].sample(7))\n"
   ]
  },
  {
   "cell_type": "code",
   "execution_count": 21,
   "metadata": {},
   "outputs": [],
   "source": [
    "pop_threshold = 0  # If you wish to remove low density population cells, enter a threshold above 0\n",
    "onsseter.df = onsseter.df.loc[onsseter.df[SET_POP] > pop_threshold]"
   ]
  },
  {
   "cell_type": "markdown",
   "metadata": {},
   "source": [
    "# Step 3. Enter country specific data\n",
    "\n",
    "In addition to the GIS data (see Step 1 and 2) the user should define and insert into the model crucial information describing the social - economic - technological environment in the selected country. \n",
    "\n",
    "**Note!** Most input values shall represent future estimates for the variable they describe and **NOT** current values."
   ]
  },
  {
   "cell_type": "markdown",
   "metadata": {},
   "source": [
    "# a. Demographics and Social components"
   ]
  },
  {
   "cell_type": "code",
   "execution_count": 22,
   "metadata": {},
   "outputs": [
    {
     "name": "stderr",
     "output_type": "stream",
     "text": [
      "2019-04-12 12:03:52,092\t\tClassify road dist\n",
      "2019-04-12 12:03:55,043\t\tClassify substation dist\n",
      "2019-04-12 12:03:57,959\t\tClassify land cover\n",
      "2019-04-12 12:04:00,550\t\tClassify elevation\n",
      "2019-04-12 12:04:03,032\t\tClassify slope\n",
      "2019-04-12 12:04:05,596\t\tCombined classification\n",
      "2019-04-12 12:04:05,607\t\tGrid penalty\n",
      "2019-04-12 12:04:08,255\t\tCalculate Wind CF\n",
      "2019-04-12 12:04:15,711\t\tCalibrate current population\n",
      "2019-04-12 12:04:19,176\t\tProject future population\n"
     ]
    },
    {
     "data": {
      "text/plain": [
       "0.4334863291458491"
      ]
     },
     "execution_count": 22,
     "metadata": {},
     "output_type": "execute_result"
    }
   ],
   "source": [
    "pop_start_year = 83000000       ### Write the population in the base year (e.g. 2016) \n",
    "pop_end_year_high = 92000000        ### Write the projected population in the end year (e.g. 2030)\n",
    "pop_end_year_low = 90000000\n",
    "\n",
    "urban_ratio_start_year = 0.44    ### Write the urban population population ratio in the base year (e.g. 2016)\n",
    "urban_ratio_end_year = 0.47    ### Write the urban population population ratio in the end year (e.g. 2030)\n",
    "\n",
    "num_people_per_hh_urban = 3    ### Write the number of people per household expected in the end year (e.g. 2030)\n",
    "num_people_per_hh_rural = 3.6    ### Write the number of people per household expected in the end year (e.g. 2030)\n",
    "\n",
    "elec_ratio_start_year = 0.171        ### Write the electrification rate in the base year (e.g. 2016)\n",
    "urban_elec_ratio = 0.472             ### Write urban electrification rate in the base year (e.g. 2016)\n",
    "rural_elec_ratio = 0.0              ### Write rural electrification rate in the base year (e.g. 2016)\n",
    "\n",
    "onsseter.grid_penalties()\n",
    "onsseter.calc_wind_cfs()\n",
    "onsseter.calibrate_pop_and_urban(pop_start_year, pop_end_year_high, pop_end_year_low, urban_ratio_start_year, \n",
    "                                 urban_ratio_end_year, start_year, end_year)"
   ]
  },
  {
   "cell_type": "markdown",
   "metadata": {},
   "source": [
    "# b. Technology specifications & costs\n",
    "\n",
    "The cell below contains all the information that is used to calculate the levelised costs for all the technologies, including grid. These should be updated to reflect the most accurate values. The following values are provided by KTH dESA, based on OSeMOSYS, the open source optimization model for long-run integrated assessment and energy planning."
   ]
  },
  {
   "cell_type": "code",
   "execution_count": 23,
   "metadata": {},
   "outputs": [],
   "source": [
    "grid_generation_cost = 0.05           ### This is the grid cost electricity USD/kWh as expected in the end year of the analysis\n",
    "grid_power_plants_capital_cost = 2000 ### The cost in USD/kW to for capacity upgrades of the grid\n",
    "grid_losses = 0.1                     ### The fraction of electricity lost in transmission and distribution (percentage) \n",
    "base_to_peak = 0.5                    ### The ratio of base grid demand to peak demand (percentage) \n",
    "existing_grid_cost_ratio = 0.1        ### The additional cost per round of electrification (percentage) "
   ]
  },
  {
   "cell_type": "code",
   "execution_count": 24,
   "metadata": {},
   "outputs": [],
   "source": [
    "diesel_price = 1.7                   ### This is the diesel price in USD/liter as expected in the end year of the analysis"
   ]
  },
  {
   "cell_type": "code",
   "execution_count": 25,
   "metadata": {},
   "outputs": [],
   "source": [
    "sa_diesel_capital_cost = 938          ### Stand-alone Diesel capital cost (USD/kW) as expected in the years of the analysis\n",
    "mg_diesel_capital_cost = 721          ### Mini-grid Diesel capital cost (USD/kW) as expected in the years of the analysis\n",
    "mg_pv_capital_cost = 4300             ### Mini-grid PV capital cost (USD/kW) as expected in the years of the analysis\n",
    "mg_wind_capital_cost = 3000           ### Mini-grid Wind capital cost (USD/kW) as expected in the years of the analysis\n",
    "mg_hydro_capital_cost = 5000          ### Mini-grid Hydro capital cost (USD/kW) as expected in the years of the analysis"
   ]
  },
  {
   "cell_type": "code",
   "execution_count": 26,
   "metadata": {},
   "outputs": [],
   "source": [
    "sa_pv_capital_cost_1 = 20000          ### Stand-alone PV capital cost (USD/kW) for household systems under 20 W\n",
    "sa_pv_capital_cost_2 = 11050          ### Stand-alone PV capital cost (USD/kW) for household systems between 21-50 W\n",
    "sa_pv_capital_cost_3 = 7660           ### Stand-alone PV capital cost (USD/kW) for household systems between 51-100 W\n",
    "sa_pv_capital_cost_4 = 5780           ### Stand-alone PV capital cost (USD/kW) for household systems between 101-200 W\n",
    "sa_pv_capital_cost_5 = 5070           ### Stand-alone PV capital cost (USD/kW) for household systems over 200 W"
   ]
  },
  {
   "cell_type": "markdown",
   "metadata": {},
   "source": [
    "The cells below contain additional technology specifications"
   ]
  },
  {
   "cell_type": "code",
   "execution_count": 27,
   "metadata": {},
   "outputs": [],
   "source": [
    "# Transmission and distribution costs\n",
    "mv_line_cost = 9000\n",
    "lv_line_cost=5000\n",
    "mv_line_capacity=50\n",
    "lv_line_capacity=10\n",
    "lv_line_max_length=30\n",
    "hv_line_cost=53000\n",
    "mv_line_max_length=50\n",
    "hv_lv_transformer_cost=5000\n",
    "mv_increase_rate=0.1\n",
    "max_mv_line_dist = 50\n",
    "\n",
    "\n",
    "# Centralized grid costs\n",
    "grid_calc = Technology(om_of_td_lines=0.1,\n",
    "                        distribution_losses=grid_losses,\n",
    "                        connection_cost_per_hh=150,\n",
    "                        base_to_peak_load_ratio=base_to_peak,\n",
    "                        capacity_factor=1,\n",
    "                        tech_life=30,\n",
    "                        grid_capacity_investment=grid_power_plants_capital_cost,\n",
    "                        grid_price=grid_generation_cost)\n",
    "\n",
    "# Mini-grid hydro costs\n",
    "mg_hydro_calc = Technology(om_of_td_lines=0.03,\n",
    "                            distribution_losses=0.05,\n",
    "                            connection_cost_per_hh=100,\n",
    "                            base_to_peak_load_ratio=0.9,\n",
    "                            capacity_factor=0.5,\n",
    "                            tech_life=30,\n",
    "                            capital_cost=5000,\n",
    "                            om_costs=0.02,\n",
    "                            )\n",
    "\n",
    "# Mini-grid wind costs\n",
    "mg_wind_calc = Technology(om_of_td_lines=0.03,\n",
    "                            distribution_losses=0.05,\n",
    "                            connection_cost_per_hh=100,\n",
    "                            base_to_peak_load_ratio=0.9,\n",
    "                            capital_cost=3500,\n",
    "                            om_costs=0.02,\n",
    "                            tech_life=20,\n",
    "                            )\n",
    "\n",
    "# Mini-grid PV costs\n",
    "mg_pv_calc = Technology(om_of_td_lines=0.03,\n",
    "                        distribution_losses=0.05,\n",
    "                        connection_cost_per_hh=100,\n",
    "                        base_to_peak_load_ratio=0.9,\n",
    "                        tech_life=20,\n",
    "                        om_costs=0.02,\n",
    "                        capital_cost=4300                        \n",
    "                       )\n",
    "\n",
    "# Stand-alone PV costs\n",
    "sa_pv_calc = Technology(base_to_peak_load_ratio=0.9,\n",
    "                        tech_life=15,\n",
    "                        om_costs=0.02,\n",
    "                        capital_cost={0.020: sa_pv_capital_cost_1, \n",
    "                                      0.050: sa_pv_capital_cost_2, \n",
    "                                      0.100: sa_pv_capital_cost_3, \n",
    "                                      0.200: sa_pv_capital_cost_4, \n",
    "                                      0.300: sa_pv_capital_cost_5},\n",
    "                        standalone=True\n",
    "                        )\n",
    "\n",
    "# Mini-grid diesel costs\n",
    "mg_diesel_calc = Technology(om_of_td_lines=0.03,\n",
    "                            distribution_losses=0.05,\n",
    "                            connection_cost_per_hh=100,\n",
    "                            base_to_peak_load_ratio=0.9,\n",
    "                            capacity_factor=0.7,\n",
    "                            tech_life=15,\n",
    "                            om_costs=0.1,\n",
    "                            efficiency=0.33,\n",
    "                            capital_cost=721,\n",
    "                            diesel_price=diesel_price,\n",
    "                            diesel_truck_consumption=33.7,\n",
    "                            diesel_truck_volume=15000,\n",
    "                            )\n",
    "\n",
    "# Stand-alone diesel costs\n",
    "sa_diesel_calc = Technology(base_to_peak_load_ratio=0.9,\n",
    "                            capacity_factor=0.7,\n",
    "                            tech_life=10,\n",
    "                            om_costs=0.1,\n",
    "                            capital_cost=938,\n",
    "                            diesel_price=diesel_price,\n",
    "                            standalone=True,\n",
    "                            efficiency=0.28,\n",
    "                            diesel_truck_consumption=14,\n",
    "                            diesel_truck_volume=300)"
   ]
  },
  {
   "cell_type": "markdown",
   "metadata": {},
   "source": [
    "# Step 4. Data Processing, Projection and Calibration\n",
    "\n",
    "Based on the input data in the previous steps, the code now creates some additional layers that are useful for the electrification analysis. This is an iterative process and requires calibration from the user. \n",
    "\n",
    "To illustrate, one of the most important steps in the electrification analysis is the identification of the currently electrified settlements. Based on their location, the model then decides how easy is to extend the grid to neighboring cells or rather choose and off-grid technology."
   ]
  },
  {
   "cell_type": "markdown",
   "metadata": {},
   "source": [
    "### Here is an example\n",
    "#### The user will need to calibrate the model so that the modelled electrification rate is equal (or close) to the actual rate in the selected country."
   ]
  },
  {
   "cell_type": "markdown",
   "metadata": {},
   "source": [
    "First, set the minimum night light intensity, below which it is assumed there is no electricity access"
   ]
  },
  {
   "cell_type": "code",
   "execution_count": 28,
   "metadata": {},
   "outputs": [],
   "source": [
    "min_night_lights = 0    ### 0 Indicates no night light, while any number above refers to the night-lights intensity"
   ]
  },
  {
   "cell_type": "markdown",
   "metadata": {},
   "source": [
    "In addition, both of the below conditions must be met to consider a settlement electrified"
   ]
  },
  {
   "cell_type": "code",
   "execution_count": 29,
   "metadata": {},
   "outputs": [],
   "source": [
    "min_pop = 50      ### Settlement above which we can assume that it could be electrified\n",
    "\n",
    "max_service_transformer_distance = 2    ### Distance from the existing grid network below which we can assume a settlement could be electrified\n",
    "max_mv_line_distance = 2\n",
    "max_hv_line_distance = 5"
   ]
  },
  {
   "cell_type": "code",
   "execution_count": 30,
   "metadata": {},
   "outputs": [
    {
     "name": "stderr",
     "output_type": "stream",
     "text": [
      "2019-04-12 12:04:39,432\t\tCalibrate current electrification\n",
      "C:\\GitHub\\The-GEP\\onsset.py:1198: RuntimeWarning: divide by zero encountered in double_scalars\n",
      "  rural_elec_factor = rural_elec_modelled / rural_electrified\n"
     ]
    },
    {
     "name": "stdout",
     "output_type": "stream",
     "text": [
      "We have identified the existence of transformers or MV lines as input data; therefore we proceed using those for the calibration\n",
      "The modelled electrification rate achieved is 0.17.Urban elec. rate is 0.39 and Rural elec. rate is 0.00. \n",
      "If this is not acceptable please revise this part of the algorithm\n"
     ]
    }
   ],
   "source": [
    "Technology.set_default_values(base_year=start_year, start_year=start_year, end_year=end_year, discount_rate=discount_rate)\n",
    "\n",
    "elec_modelled, urban_internal_elec_ratio, rural_internal_elec_ratio = onsseter.elec_current_and_future(elec_ratio_start_year, \n",
    "                                                                                                       urban_elec_ratio, \n",
    "                                                                                                       rural_elec_ratio, \n",
    "                                                                                                       pop_start_year, \n",
    "                                                                                                       start_year,\n",
    "                                                                                                       min_night_lights=min_night_lights, \n",
    "                                                                                                       min_pop=min_pop, \n",
    "                                                                                                       max_transformer_dist=max_service_transformer_distance, \n",
    "                                                                                                       max_mv_dist=max_mv_line_distance, \n",
    "                                                                                                       max_hv_dist=max_hv_line_distance) \n",
    "\n",
    "onsseter.grid_reach_estimate(start_year, gridspeed=9999)"
   ]
  },
  {
   "cell_type": "code",
   "execution_count": 31,
   "metadata": {},
   "outputs": [
    {
     "data": {
      "text/plain": [
       "<Figure size 720x720 with 0 Axes>"
      ]
     },
     "execution_count": 31,
     "metadata": {},
     "output_type": "execute_result"
    },
    {
     "name": "stderr",
     "output_type": "stream",
     "text": [
      "2019-04-12 12:05:02,396\t\tupdate_title_pos\n",
      "2019-04-12 12:05:02,487\t\tupdate_title_pos\n",
      "2019-04-12 12:05:02,576\t\tupdate_title_pos\n",
      "2019-04-12 12:05:02,618\t\tupdate_title_pos\n",
      "2019-04-12 12:05:02,642\t\tupdate_title_pos\n"
     ]
    },
    {
     "data": {
      "image/png": "[encoded data removed]",
      "text/plain": [
       "<Figure size 648x648 with 1 Axes>"
      ]
     },
     "metadata": {
      "needs_background": "light"
     },
     "output_type": "display_data"
    },
    {
     "data": {
      "text/plain": [
       "<Figure size 720x720 with 0 Axes>"
      ]
     },
     "metadata": {},
     "output_type": "display_data"
    }
   ],
   "source": [
    "from matplotlib import pyplot as plt\n",
    "colors = ['#73B2FF','#EDD100','#EDA800','#1F6600','#98E600','#70A800','#1FA800']\n",
    "plt.figure(figsize=(9,9))\n",
    "plt.plot(onsseter.df.loc[onsseter.df[SET_ELEC_CURRENT]==0, SET_X_DEG], onsseter.df.loc[onsseter.df[SET_ELEC_CURRENT]==0, SET_Y_DEG], 'g,')\n",
    "plt.plot(onsseter.df.loc[onsseter.df[SET_ELEC_CURRENT]==1, SET_X_DEG], onsseter.df.loc[onsseter.df[SET_ELEC_CURRENT]==1, SET_Y_DEG], 'b,')\n",
    "if onsseter.df[SET_X_DEG].max() - onsseter.df[SET_X_DEG].min() > onsseter.df[SET_Y_DEG].max() - onsseter.df[SET_Y_DEG].min():\n",
    "    plt.xlim(onsseter.df[SET_X_DEG].min() - 1, onsseter.df[SET_X_DEG].max() + 1)\n",
    "    plt.ylim((onsseter.df[SET_Y_DEG].min()+onsseter.df[SET_Y_DEG].max())/2 - 0.5*abs(onsseter.df[SET_X_DEG].max() - onsseter.df[SET_X_DEG].min()) - 1, (onsseter.df[SET_Y_DEG].min()+onsseter.df[SET_Y_DEG].max())/2 + 0.5*abs(onsseter.df[SET_X_DEG].max() - onsseter.df[SET_X_DEG].min()) + 1)\n",
    "else:\n",
    "    plt.xlim((onsseter.df[SET_X_DEG].min()+onsseter.df[SET_X_DEG].max())/2 - 0.5*abs(onsseter.df[SET_Y_DEG].max() - onsseter.df[SET_Y_DEG].min()) - 1, (onsseter.df[SET_X_DEG].min()+onsseter.df[SET_X_DEG].max())/2 + 0.5*abs(onsseter.df[SET_Y_DEG].max() - onsseter.df[SET_Y_DEG].min()) + 1)\n",
    "    plt.ylim(onsseter.df[SET_Y_DEG].min() -1, onsseter.df[SET_Y_DEG].max() +1)\n",
    "plt.figure(figsize=(10,10))"
   ]
  },
  {
   "cell_type": "markdown",
   "metadata": {},
   "source": [
    "# Step 5. Define the demand\n",
    "\n",
    "This piece of code defines the target electricity demand in the region/country. Residential electricity demand is defined as kWh/household/year, while all other demands are defined as kWh/capita/year. Note that at the moment, all productive uses demands are set to 0 by default."
   ]
  },
  {
   "cell_type": "code",
   "execution_count": 32,
   "metadata": {},
   "outputs": [
    {
     "name": "stderr",
     "output_type": "stream",
     "text": [
      "2019-04-12 12:05:02,725\t\tPopulate ResidentialDemandTier columns\n"
     ]
    }
   ],
   "source": [
    "# Define the annual household electricity targets to choose from\n",
    "tier_1 = 38.7  # 38.7 refers to kWh/household/year. \n",
    "tier_2 = 219\n",
    "tier_3 = 803\n",
    "tier_4 = 2117\n",
    "tier_5 = 2993\n",
    "\n",
    "onsseter.prepare_wtf_tier_columns(num_people_per_hh_rural, num_people_per_hh_urban, tier_1, tier_2, tier_3, tier_4, tier_5)"
   ]
  },
  {
   "cell_type": "code",
   "execution_count": 33,
   "metadata": {},
   "outputs": [],
   "source": [
    "onsseter.df[SET_EDU_DEMAND] = 0           # Demand for educational facilities (kWh/capita/year)\n",
    "onsseter.df[SET_HEALTH_DEMAND] = 0        # Demand for health facilities (kWh/capita/year)\n",
    "onsseter.df[SET_COMMERCIAL_DEMAND] = 0    # Demand for commercial activities (kWh/capita/year)\n",
    "onsseter.df[SET_AGRI_DEMAND] = 0          # Demand for agricultural activities (kWh/capita/year)"
   ]
  },
  {
   "cell_type": "markdown",
   "metadata": {},
   "source": [
    "# Step 6. Calculate and compare technology costs for every settlement in the country\n",
    "\n",
    "Based on the previous calculation this piece of code identifies the LCoE that every off-grid technology can provide, for each single populated settlement of the selected country. The cell then takes all the currently grid-connected points in the country, and looks at the points within a certain distance from them, to see if it is more ecnomical to connect them to the grid, or to use one of the off-grid technologies calculated above. Once more points are connected to the grid, the process is repeated, so that new points close to those points might also be connected. This is repeated until there are no new points to connect to the grid."
   ]
  },
  {
   "cell_type": "code",
   "execution_count": 34,
   "metadata": {},
   "outputs": [],
   "source": [
    "urban_tier = 5     ###  According to the MTF. The tiers in kWh/person/year (examples for Tier 1-5 are 8, 44, 160, 423, 598)\n",
    "rural_tier = 2     ###  According to the MTF. The tiers in kWh/person/year (examples for Tier 1-5 are 8, 44, 160, 423, 598)"
   ]
  },
  {
   "cell_type": "code",
   "execution_count": 35,
   "metadata": {},
   "outputs": [],
   "source": [
    "annual_grid_cap_gen_limit = 400 # This is the maximum generation capacity that can be added to the grid in one year (MW)\n",
    "annual_new_grid_connections_limit = 1000 # This is the maximum amount of new households that can be connected to the grid in one year (thousands)\n",
    "pop_high = 1 # 1 if using the high end year populations, 0 to use the lower end year population\n",
    "productive_demand = 0 # 1 if productive demand is defined and should be included, else 0\n",
    "auto_intensification = 2 # The number of kilometers from the existing network where grid-extension will be chosen by default, if the second prioritization algorithm is selected\n",
    "prioritization = 2 # Prioritization algorithm. Available choices are: 1 or 2"
   ]
  },
  {
   "cell_type": "code",
   "execution_count": 36,
   "metadata": {},
   "outputs": [
    {
     "name": "stderr",
     "output_type": "stream",
     "text": [
      "2019-04-12 12:05:02,781\t\tDetermine current MV line length\n",
      "2019-04-12 12:05:02,974\t\tCalculate new connections\n",
      "2019-04-12 12:05:03,151\t\tSetting electrification demand as per target per year\n",
      "2019-04-12 12:05:03,844\t\tCalculate minigrid hydro LCOE\n",
      "2019-04-12 12:05:13,118\t\t64 potential hydropower sites were utilised to maximum capacity\n",
      "2019-04-12 12:05:13,118\t\tCalculate minigrid PV LCOE\n",
      "2019-04-12 12:05:43,036\t\tCalculate minigrid wind LCOE\n",
      "2019-04-12 12:05:47,517\t\tCalculate standalone PV LCOE\n",
      "2019-04-12 12:06:13,277\t\tDetermine minimum technology (off-grid)\n",
      "2019-04-12 12:06:13,605\t\tDetermine minimum tech LCOE\n",
      "2019-04-12 12:06:14,118\t\tDefine the initial electrification status\n",
      "2019-04-12 12:06:14,418\t\tElectrification algorithm starts running\n",
      "2019-04-12 12:06:38,565\t\tInitially 3160 electrified\n",
      "2019-04-12 12:06:52,184\t\tDetermine minimum overall\n",
      "2019-04-12 12:06:52,561\t\tDetermine minimum overall LCOE\n",
      "2019-04-12 12:06:52,611\t\tAdd technology codes\n",
      "2019-04-12 12:06:53,061\t\tCalculate investment cost\n",
      "2019-04-12 12:07:19,247\t\tDetermine electrification limits\n",
      "2019-04-12 12:07:32,778\t\tDetermine final electrification decision\n"
     ]
    },
    {
     "name": "stdout",
     "output_type": "stream",
     "text": [
      "Further modification is needed in the limitation algorithm as goals is difficult to reach with the existing assumptions\n",
      "The electrification rate achieved in 2023 is 75.6 %\n"
     ]
    },
    {
     "name": "stderr",
     "output_type": "stream",
     "text": [
      "2019-04-12 12:07:33,130\t\tCalculate new capacity\n",
      "2019-04-12 12:07:33,361\t\tCalculate new connections\n",
      "2019-04-12 12:07:33,640\t\tSetting electrification demand as per target per year\n",
      "2019-04-12 12:07:33,907\t\tCalculate minigrid hydro LCOE\n",
      "2019-04-12 12:07:42,110\t\t43 potential hydropower sites were utilised to maximum capacity\n",
      "2019-04-12 12:07:42,111\t\tCalculate minigrid PV LCOE\n",
      "2019-04-12 12:08:08,386\t\tCalculate minigrid wind LCOE\n",
      "2019-04-12 12:08:12,358\t\tCalculate standalone PV LCOE\n",
      "2019-04-12 12:08:38,016\t\tDetermine minimum technology (off-grid)\n",
      "2019-04-12 12:08:38,376\t\tDetermine minimum tech LCOE\n",
      "2019-04-12 12:08:38,858\t\tDefine the initial electrification status\n",
      "2019-04-12 12:08:39,234\t\tElectrification algorithm starts running\n",
      "2019-04-12 12:09:01,504\t\tInitially 3160 electrified\n",
      "2019-04-12 12:09:06,413\t\tDetermine minimum overall\n",
      "2019-04-12 12:09:06,860\t\tDetermine minimum overall LCOE\n",
      "2019-04-12 12:09:06,925\t\tAdd technology codes\n",
      "2019-04-12 12:09:07,454\t\tCalculate investment cost\n",
      "2019-04-12 12:09:32,411\t\tDetermine electrification limits\n",
      "2019-04-12 12:09:32,414\t\tDetermine final electrification decision\n"
     ]
    },
    {
     "name": "stdout",
     "output_type": "stream",
     "text": [
      "The electrification rate achieved in 2030 is 100.0 %\n"
     ]
    },
    {
     "name": "stderr",
     "output_type": "stream",
     "text": [
      "2019-04-12 12:09:32,964\t\tCalculate new capacity\n"
     ]
    }
   ],
   "source": [
    "onsseter.current_mv_line_dist()\n",
    "\n",
    "for year in yearsofanalysis:\n",
    "    if pop_high == 1:\n",
    "        end_year_pop = pop_end_year_high\n",
    "    else: \n",
    "        end_year_pop = pop_end_year_low\n",
    "        \n",
    "    eleclimit = eleclimits[year]\n",
    "    time_step = time_steps[year]\n",
    "    grid_cap_gen_limit = time_step * annual_grid_cap_gen_limit\n",
    "    grid_connect_limit = time_step * annual_new_grid_connections_limit\n",
    "    \n",
    "    onsseter.set_scenario_variables(year, num_people_per_hh_rural, num_people_per_hh_urban, time_step,\n",
    "                                            start_year, urban_elec_ratio, rural_elec_ratio, urban_tier, rural_tier,\n",
    "                                            end_year_pop, productive_demand)\n",
    "\n",
    "    onsseter.calculate_off_grid_lcoes(mg_hydro_calc, mg_wind_calc, mg_pv_calc, sa_pv_calc, mg_diesel_calc,\n",
    "                                        sa_diesel_calc, 0, 0, 0, 0, 0, year, start_year, end_year, time_step)\n",
    "\n",
    "    onsseter.pre_electrification(grid_calc, grid_generation_cost, year, time_step, start_year)\n",
    "\n",
    "    onsseter.run_elec(grid_calc, max_mv_line_dist, year, start_year, end_year, time_step,\n",
    "                              grid_cap_gen_limit, grid_connect_limit, auto_intensification, prioritization)\n",
    "\n",
    "    onsseter.results_columns(mg_hydro_calc, mg_wind_calc, mg_pv_calc, sa_pv_calc, mg_diesel_calc,\n",
    "                                     sa_diesel_calc, grid_calc, 0, 0, 0, 0, 0, year)\n",
    "\n",
    "    onsseter.calculate_investments(mg_hydro_calc, mg_wind_calc, mg_pv_calc, sa_pv_calc, mg_diesel_calc,\n",
    "                                           sa_diesel_calc, grid_calc, 0, 0, 0, 0, 0, year, end_year, time_step)\n",
    "\n",
    "    onsseter.apply_limitations(eleclimit, year, time_step, prioritization, auto_intensification)\n",
    "\n",
    "    onsseter.final_decision(mg_hydro_calc, mg_wind_calc, mg_pv_calc, sa_pv_calc, mg_diesel_calc, sa_diesel_calc,\n",
    "                                    grid_calc, 0, 0, 0, 0, 0, year, end_year, time_step)    "
   ]
  },
  {
   "cell_type": "markdown",
   "metadata": {},
   "source": [
    "# Step 7 - Results, Summaries and Visualization\n",
    "With all the calculations and grid-extensions complete, this block gets the final results on which technology was chosen for each point, how much capacity needs to be installed and what it will cost. Then the summaries, plots and maps are generated."
   ]
  },
  {
   "cell_type": "code",
   "execution_count": 37,
   "metadata": {
    "scrolled": false
   },
   "outputs": [],
   "source": [
    "elements = [\"Population\", \"New_Connections\", \"Capacity\", \"Investment\"]\n",
    "techs = [\"Grid\", \"SA_Diesel\", \"SA_PV\", \"MG_Diesel\", \"MG_PV\", \"MG_Wind\", \"MG_Hydro\"]\n",
    "\n",
    "sumtechs = []\n",
    "\n",
    "sumtechs.extend([\"Population\" + t for t in techs])\n",
    "sumtechs.extend([\"New_Connections\" + t for t in techs])\n",
    "sumtechs.extend([\"Capacity\" + t for t in techs])\n",
    "sumtechs.extend([\"Investment\" + t for t in techs])\n",
    "summary = pd.Series(index=sumtechs, name=country)\n",
    "                    \n",
    "for t in techs:\n",
    "    summary.loc[\"Population\" + t] = onsseter.df.loc[onsseter.df[SET_MIN_OVERALL + '2030'] == t + '2030', SET_POP + '2030'].sum()\n",
    "    summary.loc[\"New_Connections\" + t] = onsseter.df.loc[onsseter.df[SET_MIN_OVERALL + '2030'] == t + '2030', SET_NEW_CONNECTIONS + '2030'].sum()\n",
    "    summary.loc[\"Capacity\" + t] = onsseter.df.loc[onsseter.df[SET_MIN_OVERALL + '2030'] == t + '2030', SET_NEW_CAPACITY + '2030'].sum()/1000\n",
    "    summary.loc[\"Investment\" + t] = onsseter.df.loc[onsseter.df[SET_MIN_OVERALL + '2030'] == t + '2030', SET_INVESTMENT_COST + '2030'].sum()\n",
    "    \n",
    "index = techs + ['Total']\n",
    "columns = ['Population', 'New connections', 'Capacity (MW)', 'Investments (million USD)']\n",
    "summary_table = pd.DataFrame(index=index, columns=columns)\n",
    "\n",
    "summary_table[columns[0]] = summary.iloc[0:7].astype(int).tolist() + [int(summary.iloc[0:7].sum())]\n",
    "summary_table[columns[1]] = summary.iloc[7:14].astype(int).tolist() + [int(summary.iloc[7:14].sum())]\n",
    "summary_table[columns[2]] = summary.iloc[14:21].astype(int).tolist() + [int(summary.iloc[14:21].sum())]\n",
    "summary_table[columns[3]] = [round(x/1e4)/1e2 for x in summary.iloc[21:28].astype(float).tolist()] + [round(summary.iloc[21:28].sum()/1e4)/1e2]\n",
    "#summary_table.head(10)"
   ]
  },
  {
   "cell_type": "code",
   "execution_count": 38,
   "metadata": {},
   "outputs": [
    {
     "data": {
      "text/markdown": [
       "### Summary \n",
       " These are the summarized results for full electrification of the selected country by the final year"
      ],
      "text/plain": [
       "<IPython.core.display.Markdown object>"
      ]
     },
     "metadata": {},
     "output_type": "display_data"
    },
    {
     "data": {
      "text/html": [
       "<div>\n",
       "<style scoped>\n",
       "    .dataframe tbody tr th:only-of-type {\n",
       "        vertical-align: middle;\n",
       "    }\n",
       "\n",
       "    .dataframe tbody tr th {\n",
       "        vertical-align: top;\n",
       "    }\n",
       "\n",
       "    .dataframe thead th {\n",
       "        text-align: right;\n",
       "    }\n",
       "</style>\n",
       "<table border=\"1\" class=\"dataframe\">\n",
       "  <thead>\n",
       "    <tr style=\"text-align: right;\">\n",
       "      <th></th>\n",
       "      <th>Population</th>\n",
       "      <th>New connections</th>\n",
       "      <th>Capacity (MW)</th>\n",
       "      <th>Investments (million USD)</th>\n",
       "    </tr>\n",
       "  </thead>\n",
       "  <tbody>\n",
       "    <tr>\n",
       "      <th>Grid</th>\n",
       "      <td>28493880</td>\n",
       "      <td>2729189</td>\n",
       "      <td>618</td>\n",
       "      <td>1484.43</td>\n",
       "    </tr>\n",
       "    <tr>\n",
       "      <th>SA_Diesel</th>\n",
       "      <td>0</td>\n",
       "      <td>0</td>\n",
       "      <td>0</td>\n",
       "      <td>0.00</td>\n",
       "    </tr>\n",
       "    <tr>\n",
       "      <th>SA_PV</th>\n",
       "      <td>46455686</td>\n",
       "      <td>6919868</td>\n",
       "      <td>261</td>\n",
       "      <td>1323.31</td>\n",
       "    </tr>\n",
       "    <tr>\n",
       "      <th>MG_Diesel</th>\n",
       "      <td>0</td>\n",
       "      <td>0</td>\n",
       "      <td>0</td>\n",
       "      <td>0.00</td>\n",
       "    </tr>\n",
       "    <tr>\n",
       "      <th>MG_PV</th>\n",
       "      <td>17046417</td>\n",
       "      <td>16895830</td>\n",
       "      <td>8827</td>\n",
       "      <td>27160.90</td>\n",
       "    </tr>\n",
       "    <tr>\n",
       "      <th>MG_Wind</th>\n",
       "      <td>0</td>\n",
       "      <td>0</td>\n",
       "      <td>0</td>\n",
       "      <td>0.00</td>\n",
       "    </tr>\n",
       "    <tr>\n",
       "      <th>MG_Hydro</th>\n",
       "      <td>4015</td>\n",
       "      <td>1527</td>\n",
       "      <td>0</td>\n",
       "      <td>0.23</td>\n",
       "    </tr>\n",
       "    <tr>\n",
       "      <th>Total</th>\n",
       "      <td>91999999</td>\n",
       "      <td>26546416</td>\n",
       "      <td>9707</td>\n",
       "      <td>29968.87</td>\n",
       "    </tr>\n",
       "  </tbody>\n",
       "</table>\n",
       "</div>"
      ],
      "text/plain": [
       "           Population  New connections  Capacity (MW)  \\\n",
       "Grid         28493880          2729189            618   \n",
       "SA_Diesel           0                0              0   \n",
       "SA_PV        46455686          6919868            261   \n",
       "MG_Diesel           0                0              0   \n",
       "MG_PV        17046417         16895830           8827   \n",
       "MG_Wind             0                0              0   \n",
       "MG_Hydro         4015             1527              0   \n",
       "Total        91999999         26546416           9707   \n",
       "\n",
       "           Investments (million USD)  \n",
       "Grid                         1484.43  \n",
       "SA_Diesel                       0.00  \n",
       "SA_PV                        1323.31  \n",
       "MG_Diesel                       0.00  \n",
       "MG_PV                       27160.90  \n",
       "MG_Wind                         0.00  \n",
       "MG_Hydro                        0.23  \n",
       "Total                       29968.87  "
      ]
     },
     "execution_count": 38,
     "metadata": {},
     "output_type": "execute_result"
    }
   ],
   "source": [
    "display(Markdown('### Summary \\n These are the summarized results for full electrification of the selected country by the final year'))\n",
    "summary_table"
   ]
  },
  {
   "cell_type": "code",
   "execution_count": 39,
   "metadata": {
    "scrolled": false
   },
   "outputs": [
    {
     "name": "stderr",
     "output_type": "stream",
     "text": [
      "2019-04-12 12:09:36,568\t\tupdate_title_pos\n",
      "2019-04-12 12:09:36,592\t\tfindfont: Matching :family=sans-serif:style=normal:variant=normal:weight=normal:stretch=normal:size=20.0 to DejaVu Sans ('C:\\\\Users\\\\asahl\\\\AppData\\\\Local\\\\Continuum\\\\anaconda3\\\\lib\\\\site-packages\\\\matplotlib\\\\mpl-data\\\\fonts\\\\ttf\\\\DejaVuSans.ttf') with score of 0.050000.\n",
      "2019-04-12 12:09:36,597\t\tupdate_title_pos\n",
      "2019-04-12 12:09:36,622\t\tupdate_title_pos\n",
      "2019-04-12 12:09:36,641\t\tupdate_title_pos\n",
      "2019-04-12 12:09:36,667\t\tupdate_title_pos\n",
      "2019-04-12 12:09:36,681\t\tupdate_title_pos\n",
      "2019-04-12 12:09:36,700\t\tupdate_title_pos\n",
      "2019-04-12 12:09:36,716\t\tupdate_title_pos\n",
      "2019-04-12 12:09:36,810\t\tupdate_title_pos\n",
      "2019-04-12 12:09:36,839\t\tupdate_title_pos\n",
      "2019-04-12 12:09:36,868\t\tupdate_title_pos\n",
      "2019-04-12 12:09:36,894\t\tupdate_title_pos\n",
      "2019-04-12 12:09:36,971\t\tupdate_title_pos\n",
      "2019-04-12 12:09:36,992\t\tupdate_title_pos\n",
      "2019-04-12 12:09:37,016\t\tupdate_title_pos\n",
      "2019-04-12 12:09:37,036\t\tupdate_title_pos\n",
      "2019-04-12 12:09:37,060\t\tupdate_title_pos\n",
      "2019-04-12 12:09:37,084\t\tupdate_title_pos\n",
      "2019-04-12 12:09:37,112\t\tupdate_title_pos\n",
      "2019-04-12 12:09:37,134\t\tupdate_title_pos\n"
     ]
    },
    {
     "data": {
      "image/png": "[encoded data removed]",
      "text/plain": [
       "<Figure size 1080x1080 with 4 Axes>"
      ]
     },
     "metadata": {
      "needs_background": "light"
     },
     "output_type": "display_data"
    }
   ],
   "source": [
    "import matplotlib.pylab as plt\n",
    "import seaborn as sns\n",
    "\n",
    "colors = ['#73B2FF','#EDD100','#EDA800','#1F6600','#98E600','#70A800','#1FA800']\n",
    "techs_colors = dict(zip(techs, colors))\n",
    "\n",
    "summary_plot=summary_table.drop(labels='Total',axis=0)\n",
    "fig_size = [15, 15]\n",
    "font_size = 10\n",
    "plt.rcParams[\"figure.figsize\"] = fig_size\n",
    "f, axarr = plt.subplots(2, 2)\n",
    "fig_size = [15, 15]\n",
    "font_size = 10\n",
    "plt.rcParams[\"figure.figsize\"] = fig_size\n",
    "\n",
    "sns.barplot(x=summary_plot.index.tolist(), y=columns[0], data=summary_plot, ax=axarr[0, 0], palette=colors)\n",
    "axarr[0, 0].set_ylabel(columns[0], fontsize=2*font_size)\n",
    "axarr[0, 0].tick_params(labelsize=font_size)\n",
    "sns.barplot(x=summary_plot.index.tolist(), y=columns[1], data=summary_plot, ax=axarr[0, 1], palette=colors)\n",
    "axarr[0, 1].set_ylabel(columns[1], fontsize=2*font_size)\n",
    "axarr[0, 1].tick_params(labelsize=font_size)\n",
    "sns.barplot(x=summary_plot.index.tolist(), y=columns[2], data=summary_plot, ax=axarr[1, 0], palette=colors)\n",
    "axarr[1, 0].set_ylabel(columns[2], fontsize=2*font_size)\n",
    "axarr[1, 0].tick_params(labelsize=font_size)\n",
    "sns.barplot(x=summary_plot.index.tolist(), y=columns[3], data=summary_plot, ax=axarr[1, 1], palette=colors)\n",
    "axarr[1, 1].set_ylabel(columns[3], fontsize=2*font_size)\n",
    "axarr[1, 1].tick_params(labelsize=font_size)"
   ]
  },
  {
   "cell_type": "code",
   "execution_count": 40,
   "metadata": {},
   "outputs": [
    {
     "data": {
      "text/plain": [
       "<Figure size 720x720 with 0 Axes>"
      ]
     },
     "execution_count": 40,
     "metadata": {},
     "output_type": "execute_result"
    },
    {
     "name": "stderr",
     "output_type": "stream",
     "text": [
      "2019-04-12 12:09:37,325\t\tupdate_title_pos\n",
      "2019-04-12 12:09:37,401\t\tupdate_title_pos\n",
      "2019-04-12 12:09:37,506\t\tupdate_title_pos\n",
      "2019-04-12 12:09:37,547\t\tupdate_title_pos\n",
      "2019-04-12 12:09:37,571\t\tupdate_title_pos\n"
     ]
    },
    {
     "data": {
      "image/png": "[encoded data removed]",
      "text/plain": [
       "<Figure size 648x648 with 1 Axes>"
      ]
     },
     "metadata": {
      "needs_background": "light"
     },
     "output_type": "display_data"
    },
    {
     "data": {
      "text/plain": [
       "<Figure size 720x720 with 0 Axes>"
      ]
     },
     "metadata": {},
     "output_type": "display_data"
    }
   ],
   "source": [
    "from matplotlib import pyplot as plt\n",
    "colors = ['#73B2FF','#EDD100','#EDA800','#1F6600','#98E600','#70A800','#1FA800']\n",
    "plt.figure(figsize=(9,9))\n",
    "plt.plot(onsseter.df.loc[onsseter.df['FinalElecCode2030']==3, SET_X_DEG], onsseter.df.loc[onsseter.df['FinalElecCode2030']==3, SET_Y_DEG], color='#EDA800', marker=',', linestyle='none')\n",
    "plt.plot(onsseter.df.loc[onsseter.df['FinalElecCode2030']==2, SET_X_DEG], onsseter.df.loc[onsseter.df['FinalElecCode2030']==2, SET_Y_DEG], color='#EDD100', marker=',', linestyle='none')\n",
    "plt.plot(onsseter.df.loc[onsseter.df['FinalElecCode2030']==4, SET_X_DEG], onsseter.df.loc[onsseter.df['FinalElecCode2030']==4, SET_Y_DEG], color='#1F6600', marker=',', linestyle='none')\n",
    "plt.plot(onsseter.df.loc[onsseter.df['FinalElecCode2030']==5, SET_X_DEG], onsseter.df.loc[onsseter.df['FinalElecCode2030']==5, SET_Y_DEG], color='#98E600', marker=',', linestyle='none')\n",
    "plt.plot(onsseter.df.loc[onsseter.df['FinalElecCode2030']==6, SET_X_DEG], onsseter.df.loc[onsseter.df['FinalElecCode2030']==6, SET_Y_DEG], color='#70A800', marker=',', linestyle='none')\n",
    "plt.plot(onsseter.df.loc[onsseter.df['FinalElecCode2030']==7, SET_X_DEG], onsseter.df.loc[onsseter.df['FinalElecCode2030']==7, SET_Y_DEG], color='#1FA800', marker=',', linestyle='none')\n",
    "plt.plot(onsseter.df.loc[onsseter.df['FinalElecCode2030']==1, SET_X_DEG], onsseter.df.loc[onsseter.df['FinalElecCode2030']==1, SET_Y_DEG], color='#73B2FF', marker='.', linestyle='none')\n",
    "if onsseter.df[SET_X_DEG].max() - onsseter.df[SET_X_DEG].min() > onsseter.df[SET_Y_DEG].max() - onsseter.df[SET_Y_DEG].min():\n",
    "    plt.xlim(onsseter.df[SET_X_DEG].min() - 1, onsseter.df[SET_X_DEG].max() + 1)\n",
    "    plt.ylim((onsseter.df[SET_Y_DEG].min()+onsseter.df[SET_Y_DEG].max())/2 - 0.5*abs(onsseter.df[SET_X_DEG].max() - onsseter.df[SET_X_DEG].min()) - 1, (onsseter.df[SET_Y_DEG].min()+onsseter.df[SET_Y_DEG].max())/2 + 0.5*abs(onsseter.df[SET_X_DEG].max() - onsseter.df[SET_X_DEG].min()) + 1)\n",
    "else:\n",
    "    plt.xlim((onsseter.df[SET_X_DEG].min()+onsseter.df[SET_X_DEG].max())/2 - 0.5*abs(onsseter.df[SET_Y_DEG].max() - onsseter.df[SET_Y_DEG].min()) - 1, (onsseter.df[SET_X_DEG].min()+onsseter.df[SET_X_DEG].max())/2 + 0.5*abs(onsseter.df[SET_Y_DEG].max() - onsseter.df[SET_Y_DEG].min()) + 1)\n",
    "    plt.ylim(onsseter.df[SET_Y_DEG].min() -1, onsseter.df[SET_Y_DEG].max() +1)\n",
    "plt.figure(figsize=(10,10))"
   ]
  },
  {
   "cell_type": "markdown",
   "metadata": {},
   "source": [
    "## Exporting results\n",
    "\n",
    "This code generates two csv files:\n",
    " - one containing all the results for the scenario created\n",
    " - one containing the summary for the scenario created\n"
   ]
  },
  {
   "cell_type": "code",
   "execution_count": 41,
   "metadata": {},
   "outputs": [
    {
     "ename": "NameError",
     "evalue": "name 'df' is not defined",
     "output_type": "error",
     "traceback": [
      "\u001b[1;31m---------------------------------------------------------------------------\u001b[0m",
      "\u001b[1;31mNameError\u001b[0m                                 Traceback (most recent call last)",
      "\u001b[1;32m<ipython-input-41-93eb6c51797a>\u001b[0m in \u001b[0;36m<module>\u001b[1;34m\u001b[0m\n\u001b[0;32m      1\u001b[0m \u001b[1;31m# Returning the result as a csv file\u001b[0m\u001b[1;33m\u001b[0m\u001b[1;33m\u001b[0m\u001b[1;33m\u001b[0m\u001b[0m\n\u001b[1;32m----> 2\u001b[1;33m \u001b[0mdf\u001b[0m\u001b[1;33m.\u001b[0m\u001b[0mto_csv\u001b[0m\u001b[1;33m(\u001b[0m\u001b[1;34mr\"Results/Results_{c}_{sc}_{gp}_{dp}.csv\"\u001b[0m\u001b[1;33m.\u001b[0m\u001b[0mformat\u001b[0m\u001b[1;33m(\u001b[0m\u001b[0mc\u001b[0m\u001b[1;33m=\u001b[0m\u001b[0mcountry\u001b[0m\u001b[1;33m,\u001b[0m \u001b[0msc\u001b[0m\u001b[1;33m=\u001b[0m\u001b[0menergy_per_hh_urban\u001b[0m\u001b[1;33m,\u001b[0m \u001b[0mgp\u001b[0m\u001b[1;33m=\u001b[0m\u001b[0mgrid_generation_cost\u001b[0m\u001b[1;33m,\u001b[0m \u001b[0mdp\u001b[0m\u001b[1;33m=\u001b[0m\u001b[0mdiesel_price\u001b[0m\u001b[1;33m)\u001b[0m\u001b[1;33m,\u001b[0m \u001b[0mindex\u001b[0m\u001b[1;33m=\u001b[0m\u001b[1;32mFalse\u001b[0m\u001b[1;33m)\u001b[0m\u001b[1;33m\u001b[0m\u001b[1;33m\u001b[0m\u001b[0m\n\u001b[0m\u001b[0;32m      3\u001b[0m \u001b[1;33m\u001b[0m\u001b[0m\n\u001b[0;32m      4\u001b[0m \u001b[1;31m# Returning the summary as a csv file\u001b[0m\u001b[1;33m\u001b[0m\u001b[1;33m\u001b[0m\u001b[1;33m\u001b[0m\u001b[0m\n\u001b[0;32m      5\u001b[0m \u001b[0msummary_table\u001b[0m\u001b[1;33m.\u001b[0m\u001b[0mto_csv\u001b[0m\u001b[1;33m(\u001b[0m\u001b[1;34mr\"Results/Summary_{c}_{sc}_{gp}_{dp}.csv\"\u001b[0m\u001b[1;33m.\u001b[0m\u001b[0mformat\u001b[0m\u001b[1;33m(\u001b[0m\u001b[0mc\u001b[0m\u001b[1;33m=\u001b[0m\u001b[0mcountry\u001b[0m\u001b[1;33m,\u001b[0m \u001b[0msc\u001b[0m\u001b[1;33m=\u001b[0m\u001b[0menergy_per_hh_urban\u001b[0m\u001b[1;33m,\u001b[0m \u001b[0mgp\u001b[0m\u001b[1;33m=\u001b[0m\u001b[0mgrid_generation_cost\u001b[0m\u001b[1;33m,\u001b[0m \u001b[0mdp\u001b[0m\u001b[1;33m=\u001b[0m\u001b[0mdiesel_price\u001b[0m\u001b[1;33m)\u001b[0m\u001b[1;33m,\u001b[0m \u001b[0mindex\u001b[0m\u001b[1;33m=\u001b[0m\u001b[1;32mTrue\u001b[0m\u001b[1;33m)\u001b[0m\u001b[1;33m\u001b[0m\u001b[1;33m\u001b[0m\u001b[0m\n",
      "\u001b[1;31mNameError\u001b[0m: name 'df' is not defined"
     ]
    }
   ],
   "source": [
    "# Returning the result as a csv file\n",
    "df.to_csv(r\"Results/Results_{c}_{sc}_{gp}_{dp}.csv\".format(c=country, sc=energy_per_hh_urban, gp=grid_generation_cost, dp=diesel_price), index=False)\n",
    "\n",
    "# Returning the summary as a csv file\n",
    "summary_table.to_csv(r\"Results/Summary_{c}_{sc}_{gp}_{dp}.csv\".format(c=country, sc=energy_per_hh_urban, gp=grid_generation_cost, dp=diesel_price), index=True)"
   ]
  }
 ],
 "metadata": {
  "anaconda-cloud": {},
  "celltoolbar": "Raw Cell Format",
  "kernelspec": {
   "display_name": "Python 3",
   "language": "python",
   "name": "python3"
  },
  "language_info": {
   "codemirror_mode": {
    "name": "ipython",
    "version": 3
   },
   "file_extension": ".py",
   "mimetype": "text/x-python",
   "name": "python",
   "nbconvert_exporter": "python",
   "pygments_lexer": "ipython3",
   "version": "3.7.1"
  }
 },
 "nbformat": 4,
 "nbformat_minor": 2
}
