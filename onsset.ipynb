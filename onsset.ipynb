{
 "cells": [
  {
   "cell_type": "markdown",
   "metadata": {},
   "source": [
    "# Welcome to OnSSET\n",
    "\n",
    "This notebook has been designed by KTH dESA in order to run the Open Source Spatial Electrification Tool (OnSSET) in few descernible steps. Using this Notebook and the onsset.py code, the user can access any part of the code behind the tool and modify it according to his/her preferences. \n",
    "\n",
    "For any further questions or clarification please refer to the tool's <a href=\"http://onsset-manual.readthedocs.io/en/latest/index.html\" target=\"_blank\">Manual</a>, or ask any of the worhshop instructors. Enjoy!"
   ]
  },
  {
   "cell_type": "markdown",
   "metadata": {},
   "source": [
    "# Initial inputs\n",
    "\n",
    "Before we proceed, please choose a country for the analysis, as well as the start and end year of the modelling period and some other general inputs. \n"
   ]
  },
  {
   "cell_type": "code",
   "execution_count": 1,
   "metadata": {},
   "outputs": [],
   "source": [
    "country = 'Malawi'   ### Simply write the name of the selected country within the brackets\n",
    "\n",
    "start_year = 2018\n",
    "end_year = 2030\n",
    "\n",
    "from onsset import *\n",
    "\n",
    "coordinate_units = 1000  # 1000 if coordinates are in m, 1 if coordinates are in km\n",
    "discount_rate = 0.08\n",
    "HOURS_PER_YEAR = 8760"
   ]
  },
  {
   "cell_type": "markdown",
   "metadata": {},
   "source": [
    "# Electrification targets\n",
    "\n",
    "Next, define the electrification targets for the end year, as well as potential intermediate targets"
   ]
  },
  {
   "cell_type": "code",
   "execution_count": 2,
   "metadata": {},
   "outputs": [],
   "source": [
    "### Example: The below will run the analysis in two steps. From 2018 to 2023, and then 2023 to 2030.\n",
    "### The electrification target in 2023 is 80% (0.8) and in 2030 is 100% (1).\n",
    "### Finally, the length of the first step is 5 years and the second step is 7 years.\n",
    "yearsofanalysis = [2023, 2030]\n",
    "eleclimits = {2023: 0.8, 2030: 1}\n",
    "time_steps = {2023: 5, 2030: 7}"
   ]
  },
  {
   "cell_type": "markdown",
   "metadata": {},
   "source": [
    "# Step 1 and 2. GIS data collection, processing and import\n",
    "\n",
    "OnSSET is a GIS based tool and its proper function depends heavily on the diligent preparation and calibration of the necessary geospatial data. Documentation on GIS processing in regards to OnSSET can be found <a href=\"http://onsset-manual.readthedocs.io/en/latest/data_acquisition.html\" target=\"_blank\">here</a>.\n",
    "\n",
    "Before you proceed, please make sure that the .csv file containing all the appropriate input data is properly created and uploaded on OnSSET.org space.\n",
    "\n",
    "**Note!** The .csv file shall be named after the country selected for the analysis (e.g. Ghana.csv or Madagascar.csv)."
   ]
  },
  {
   "cell_type": "code",
   "execution_count": 3,
   "metadata": {
    "scrolled": false
   },
   "outputs": [
    {
     "name": "stderr",
     "output_type": "stream",
     "text": [
      "2019-04-05 09:15:39,070\t\tEnsure that columns that are supposed to be numeric are numeric\n",
      "2019-04-05 09:15:39,100\t\tAdd column with country name\n",
      "2019-04-05 09:15:39,104\t\tAdding column \"ElectrificationOrder\"\n",
      "2019-04-05 09:15:39,106\t\tReplace null values with zero\n",
      "2019-04-05 09:15:39,143\t\tSort by country, Y and X\n"
     ]
    },
    {
     "data": {
      "text/markdown": [
       "#### The Malawi.csv file has been imported correctly. Here is a preview:"
      ],
      "text/plain": [
       "<IPython.core.display.Markdown object>"
      ]
     },
     "metadata": {},
     "output_type": "display_data"
    },
    {
     "data": {
      "text/html": [
       "<div>\n",
       "<style scoped>\n",
       "    .dataframe tbody tr th:only-of-type {\n",
       "        vertical-align: middle;\n",
       "    }\n",
       "\n",
       "    .dataframe tbody tr th {\n",
       "        vertical-align: top;\n",
       "    }\n",
       "\n",
       "    .dataframe thead th {\n",
       "        text-align: right;\n",
       "    }\n",
       "</style>\n",
       "<table border=\"1\" class=\"dataframe\">\n",
       "  <thead>\n",
       "    <tr style=\"text-align: right;\">\n",
       "      <th></th>\n",
       "      <th>Country</th>\n",
       "      <th>Pop</th>\n",
       "      <th>NightLights</th>\n",
       "      <th>TravelHours</th>\n",
       "      <th>GHI</th>\n",
       "      <th>WindVel</th>\n",
       "      <th>Hydropower</th>\n",
       "      <th>HydropowerDist</th>\n",
       "    </tr>\n",
       "  </thead>\n",
       "  <tbody>\n",
       "    <tr>\n",
       "      <th>146190</th>\n",
       "      <td>Malawi</td>\n",
       "      <td>16.08581</td>\n",
       "      <td>0.0</td>\n",
       "      <td>0.90000</td>\n",
       "      <td>2043</td>\n",
       "      <td>4.03088</td>\n",
       "      <td>146</td>\n",
       "      <td>16.61168</td>\n",
       "    </tr>\n",
       "    <tr>\n",
       "      <th>191059</th>\n",
       "      <td>Malawi</td>\n",
       "      <td>6.83918</td>\n",
       "      <td>0.0</td>\n",
       "      <td>2.85000</td>\n",
       "      <td>2111</td>\n",
       "      <td>3.64514</td>\n",
       "      <td>375</td>\n",
       "      <td>40.63176</td>\n",
       "    </tr>\n",
       "    <tr>\n",
       "      <th>172040</th>\n",
       "      <td>Malawi</td>\n",
       "      <td>13.83889</td>\n",
       "      <td>0.0</td>\n",
       "      <td>0.60000</td>\n",
       "      <td>2002</td>\n",
       "      <td>4.12930</td>\n",
       "      <td>293</td>\n",
       "      <td>35.50658</td>\n",
       "    </tr>\n",
       "    <tr>\n",
       "      <th>65469</th>\n",
       "      <td>Malawi</td>\n",
       "      <td>4.87203</td>\n",
       "      <td>0.0</td>\n",
       "      <td>0.93333</td>\n",
       "      <td>2030</td>\n",
       "      <td>4.27221</td>\n",
       "      <td>405</td>\n",
       "      <td>46.30870</td>\n",
       "    </tr>\n",
       "    <tr>\n",
       "      <th>109064</th>\n",
       "      <td>Malawi</td>\n",
       "      <td>4.14393</td>\n",
       "      <td>0.0</td>\n",
       "      <td>0.73333</td>\n",
       "      <td>2028</td>\n",
       "      <td>4.17592</td>\n",
       "      <td>102</td>\n",
       "      <td>18.03411</td>\n",
       "    </tr>\n",
       "    <tr>\n",
       "      <th>161366</th>\n",
       "      <td>Malawi</td>\n",
       "      <td>5.44796</td>\n",
       "      <td>0.0</td>\n",
       "      <td>1.26667</td>\n",
       "      <td>2012</td>\n",
       "      <td>4.11365</td>\n",
       "      <td>375</td>\n",
       "      <td>37.46373</td>\n",
       "    </tr>\n",
       "    <tr>\n",
       "      <th>146687</th>\n",
       "      <td>Malawi</td>\n",
       "      <td>31.74717</td>\n",
       "      <td>0.0</td>\n",
       "      <td>0.33333</td>\n",
       "      <td>2020</td>\n",
       "      <td>4.13866</td>\n",
       "      <td>3128</td>\n",
       "      <td>8.71201</td>\n",
       "    </tr>\n",
       "  </tbody>\n",
       "</table>\n",
       "</div>"
      ],
      "text/plain": [
       "       Country       Pop  NightLights  TravelHours   GHI  WindVel  Hydropower  \\\n",
       "146190  Malawi  16.08581          0.0      0.90000  2043  4.03088         146   \n",
       "191059  Malawi   6.83918          0.0      2.85000  2111  3.64514         375   \n",
       "172040  Malawi  13.83889          0.0      0.60000  2002  4.12930         293   \n",
       "65469   Malawi   4.87203          0.0      0.93333  2030  4.27221         405   \n",
       "109064  Malawi   4.14393          0.0      0.73333  2028  4.17592         102   \n",
       "161366  Malawi   5.44796          0.0      1.26667  2012  4.11365         375   \n",
       "146687  Malawi  31.74717          0.0      0.33333  2020  4.13866        3128   \n",
       "\n",
       "        HydropowerDist  \n",
       "146190        16.61168  \n",
       "191059        40.63176  \n",
       "172040        35.50658  \n",
       "65469         46.30870  \n",
       "109064        18.03411  \n",
       "161366        37.46373  \n",
       "146687         8.71201  "
      ]
     },
     "metadata": {},
     "output_type": "display_data"
    }
   ],
   "source": [
    "onsseter = SettlementProcessor('{x}.csv'.format(x = country))\n",
    "\n",
    "onsseter.condition_df(country)\n",
    "\n",
    "display(Markdown('#### The {c}.csv file has been imported correctly. Here is a preview:'.format(c=country)))\n",
    "display(onsseter.df[['Country','Pop','NightLights','TravelHours','GHI','WindVel','Hydropower','HydropowerDist']].sample(7))\n"
   ]
  },
  {
   "cell_type": "code",
   "execution_count": 4,
   "metadata": {},
   "outputs": [],
   "source": [
    "pop_threshold = 0  # If you wish to remove low density population cells, enter a threshold above 0\n",
    "onsseter.df = onsseter.df.loc[onsseter.df[SET_POP] > pop_threshold]"
   ]
  },
  {
   "cell_type": "markdown",
   "metadata": {},
   "source": [
    "# Step 3. Enter country specific data\n",
    "\n",
    "In addition to the GIS data (see Step 1 and 2) the user should define and insert into the model crucial information describing the social - economic - technological environment in the selected country. \n",
    "\n",
    "**Note!** Most input values shall represent future estimates for the variable they describe and **NOT** current values."
   ]
  },
  {
   "cell_type": "markdown",
   "metadata": {},
   "source": [
    "# a. Demographics and Social components"
   ]
  },
  {
   "cell_type": "code",
   "execution_count": 5,
   "metadata": {},
   "outputs": [
    {
     "name": "stderr",
     "output_type": "stream",
     "text": [
      "2019-04-05 09:15:39,454\t\tClassify road dist\n",
      "2019-04-05 09:15:42,780\t\tClassify substation dist\n",
      "2019-04-05 09:15:46,680\t\tClassify land cover\n",
      "2019-04-05 09:15:49,845\t\tClassify elevation\n",
      "2019-04-05 09:15:52,638\t\tClassify slope\n",
      "2019-04-05 09:15:55,249\t\tCombined classification\n",
      "2019-04-05 09:15:55,306\t\tGrid penalty\n",
      "2019-04-05 09:15:57,713\t\tCalculate Wind CF\n",
      "2019-04-05 09:16:04,369\t\tCalibrate current population\n"
     ]
    },
    {
     "name": "stdout",
     "output_type": "stream",
     "text": [
      "Use urban definition from GIS layer <y/n> (n=model calibration):n\n"
     ]
    },
    {
     "name": "stderr",
     "output_type": "stream",
     "text": [
      "2019-04-05 09:16:44,118\t\tProject future population\n"
     ]
    },
    {
     "data": {
      "text/plain": [
       "0.4334863291458491"
      ]
     },
     "execution_count": 5,
     "metadata": {},
     "output_type": "execute_result"
    }
   ],
   "source": [
    "pop_start_year = 83000000       ### Write the population in the base year (e.g. 2016) \n",
    "pop_end_year_high = 92000000        ### Write the projected population in the end year (e.g. 2030)\n",
    "pop_end_year_low = 90000000\n",
    "\n",
    "urban_ratio_start_year = 0.44    ### Write the urban population population ratio in the base year (e.g. 2016)\n",
    "urban_ratio_end_year = 0.47    ### Write the urban population population ratio in the end year (e.g. 2030)\n",
    "\n",
    "num_people_per_hh_urban = 3    ### Write the number of people per household expected in the end year (e.g. 2030)\n",
    "num_people_per_hh_rural = 3.6    ### Write the number of people per household expected in the end year (e.g. 2030)\n",
    "\n",
    "elec_ratio_start_year = 0.171        ### Write the electrification rate in the base year (e.g. 2016)\n",
    "urban_elec_ratio = 0.472             ### Write urban electrification rate in the base year (e.g. 2016)\n",
    "rural_elec_ratio = 0.0              ### Write rural electrification rate in the base year (e.g. 2016)\n",
    "\n",
    "onsseter.grid_penalties()\n",
    "onsseter.calc_wind_cfs()\n",
    "onsseter.calibrate_pop_and_urban(pop_start_year, pop_end_year_high, pop_end_year_low, urban_ratio_start_year, \n",
    "                                 urban_ratio_end_year, start_year, end_year)"
   ]
  },
  {
   "cell_type": "markdown",
   "metadata": {},
   "source": [
    "# b. Technology specifications & costs\n",
    "\n",
    "The cell below contains all the information that is used to calculate the levelised costs for all the technologies, including grid. These should be updated to reflect the most accurate values. The following values are provided by KTH dESA, based on OSeMOSYS, the open source optimization model for long-run integrated assessment and energy planning."
   ]
  },
  {
   "cell_type": "code",
   "execution_count": 15,
   "metadata": {},
   "outputs": [],
   "source": [
    "grid_generation_cost = 0.05           ### This is the grid cost electricity USD/kWh as expected in the end year of the analysis\n",
    "grid_power_plants_capital_cost = 2000 ### The cost in USD/kW to for capacity upgrades of the grid\n",
    "grid_losses = 0.1                     ### The fraction of electricity lost in transmission and distribution (percentage) \n",
    "base_to_peak = 0.5                    ### The ratio of base grid demand to peak demand (percentage) \n",
    "existing_grid_cost_ratio = 0.1        ### The additional cost per round of electrification (percentage) "
   ]
  },
  {
   "cell_type": "code",
   "execution_count": 16,
   "metadata": {},
   "outputs": [],
   "source": [
    "diesel_price = 1.7                   ### This is the diesel price in USD/liter as expected in the end year of the analysis"
   ]
  },
  {
   "cell_type": "code",
   "execution_count": 17,
   "metadata": {},
   "outputs": [],
   "source": [
    "sa_diesel_capital_cost = 938          ### Stand-alone Diesel capital cost (USD/kW) as expected in the years of the analysis\n",
    "mg_diesel_capital_cost = 721          ### Mini-grid Diesel capital cost (USD/kW) as expected in the years of the analysis\n",
    "mg_pv_capital_cost = 4300             ### Mini-grid PV capital cost (USD/kW) as expected in the years of the analysis\n",
    "mg_wind_capital_cost = 3000           ### Mini-grid Wind capital cost (USD/kW) as expected in the years of the analysis\n",
    "mg_hydro_capital_cost = 5000          ### Mini-grid Hydro capital cost (USD/kW) as expected in the years of the analysis"
   ]
  },
  {
   "cell_type": "code",
   "execution_count": 18,
   "metadata": {},
   "outputs": [],
   "source": [
    "sa_pv_capital_cost_1 = 20000          ### Stand-alone PV capital cost (USD/kW) for household systems under 20 W\n",
    "sa_pv_capital_cost_2 = 11050          ### Stand-alone PV capital cost (USD/kW) for household systems between 21-50 W\n",
    "sa_pv_capital_cost_3 = 7660           ### Stand-alone PV capital cost (USD/kW) for household systems between 51-100 W\n",
    "sa_pv_capital_cost_4 = 5780           ### Stand-alone PV capital cost (USD/kW) for household systems between 101-200 W\n",
    "sa_pv_capital_cost_5 = 5070           ### Stand-alone PV capital cost (USD/kW) for household systems over 200 W"
   ]
  },
  {
   "cell_type": "markdown",
   "metadata": {},
   "source": [
    "The cells below contain additional technology specifications"
   ]
  },
  {
   "cell_type": "code",
   "execution_count": 19,
   "metadata": {},
   "outputs": [],
   "source": [
    "# Transmission and distribution costs\n",
    "mv_line_cost = 9000\n",
    "lv_line_cost=5000\n",
    "mv_line_capacity=50\n",
    "lv_line_capacity=10\n",
    "lv_line_max_length=30\n",
    "hv_line_cost=53000\n",
    "mv_line_max_length=50\n",
    "hv_lv_transformer_cost=5000\n",
    "mv_increase_rate=0.1\n",
    "max_mv_line_dist = 50\n",
    "\n",
    "\n",
    "# Centralized grid costs\n",
    "grid_calc = Technology(om_of_td_lines=0.1,\n",
    "                        distribution_losses=grid_losses,\n",
    "                        connection_cost_per_hh=150,\n",
    "                        base_to_peak_load_ratio=base_to_peak,\n",
    "                        capacity_factor=1,\n",
    "                        tech_life=30,\n",
    "                        grid_capacity_investment=grid_power_plants_capital_cost,\n",
    "                        grid_price=grid_generation_cost)\n",
    "\n",
    "# Mini-grid hydro costs\n",
    "mg_hydro_calc = Technology(om_of_td_lines=0.03,\n",
    "                            distribution_losses=0.05,\n",
    "                            connection_cost_per_hh=100,\n",
    "                            base_to_peak_load_ratio=0.9,\n",
    "                            capacity_factor=0.5,\n",
    "                            tech_life=30,\n",
    "                            capital_cost=5000,\n",
    "                            om_costs=0.02,\n",
    "                            )\n",
    "\n",
    "# Mini-grid wind costs\n",
    "mg_wind_calc = Technology(om_of_td_lines=0.03,\n",
    "                            distribution_losses=0.05,\n",
    "                            connection_cost_per_hh=100,\n",
    "                            base_to_peak_load_ratio=0.9,\n",
    "                            capital_cost=3500,\n",
    "                            om_costs=0.02,\n",
    "                            tech_life=20,\n",
    "                            )\n",
    "\n",
    "# Mini-grid PV costs\n",
    "mg_pv_calc = Technology(om_of_td_lines=0.03,\n",
    "                        distribution_losses=0.05,\n",
    "                        connection_cost_per_hh=100,\n",
    "                        base_to_peak_load_ratio=0.9,\n",
    "                        tech_life=20,\n",
    "                        om_costs=0.02,\n",
    "                        capital_cost=4300                        \n",
    "                       )\n",
    "\n",
    "# Stand-alone PV costs\n",
    "sa_pv_calc = Technology(base_to_peak_load_ratio=0.9,\n",
    "                        tech_life=15,\n",
    "                        om_costs=0.02,\n",
    "                        capital_cost={0.020: sa_pv_capital_cost_1, \n",
    "                                      0.050: sa_pv_capital_cost_2, \n",
    "                                      0.100: sa_pv_capital_cost_3, \n",
    "                                      0.200: sa_pv_capital_cost_4, \n",
    "                                      0.300: sa_pv_capital_cost_5},\n",
    "                        standalone=True\n",
    "                        )\n",
    "\n",
    "# Mini-grid diesel costs\n",
    "mg_diesel_calc = Technology(om_of_td_lines=0.03,\n",
    "                            distribution_losses=0.05,\n",
    "                            connection_cost_per_hh=100,\n",
    "                            base_to_peak_load_ratio=0.9,\n",
    "                            capacity_factor=0.7,\n",
    "                            tech_life=15,\n",
    "                            om_costs=0.1,\n",
    "                            efficiency=0.33,\n",
    "                            capital_cost=721,\n",
    "                            diesel_price=diesel_price,\n",
    "                            diesel_truck_consumption=33.7,\n",
    "                            diesel_truck_volume=15000,\n",
    "                            )\n",
    "\n",
    "# Stand-alone diesel costs\n",
    "sa_diesel_calc = Technology(base_to_peak_load_ratio=0.9,\n",
    "                            capacity_factor=0.7,\n",
    "                            tech_life=10,\n",
    "                            om_costs=0.1,\n",
    "                            capital_cost=938,\n",
    "                            diesel_price=diesel_price,\n",
    "                            standalone=True,\n",
    "                            efficiency=0.28,\n",
    "                            diesel_truck_consumption=14,\n",
    "                            diesel_truck_volume=300)"
   ]
  },
  {
   "cell_type": "markdown",
   "metadata": {},
   "source": [
    "# Step 4. Data Processing, Projection and Calibration\n",
    "\n",
    "Based on the input data in the previous steps, the code now creates some additional layers that are useful for the electrification analysis. This is an iterative process and requires calibration from the user. \n",
    "\n",
    "To illustrate, one of the most important steps in the electrification analysis is the identification of the currently electrified settlements. Based on their location, the model then decides how easy is to extend the grid to neighboring cells or rather choose and off-grid technology."
   ]
  },
  {
   "cell_type": "markdown",
   "metadata": {},
   "source": [
    "### Here is an example\n",
    "#### The user will need to calibrate the model so that the modelled electrification rate is equal (or close) to the actual rate in the selected country."
   ]
  },
  {
   "cell_type": "markdown",
   "metadata": {},
   "source": [
    "First, set the minimum night light intensity, below which it is assumed there is no electricity access"
   ]
  },
  {
   "cell_type": "code",
   "execution_count": 20,
   "metadata": {},
   "outputs": [],
   "source": [
    "min_night_lights = 0.3    ### 0 Indicates no night light, while any number above refers to the night-lights intensity"
   ]
  },
  {
   "cell_type": "markdown",
   "metadata": {},
   "source": [
    "In addition, both of the below conditions must be met to consider a settlement electrified"
   ]
  },
  {
   "cell_type": "code",
   "execution_count": 21,
   "metadata": {},
   "outputs": [],
   "source": [
    "pop_cutoff  = 10      ### Settlement above which we can assume that it could be electrified\n",
    "max_grid_dist = 10    ### Distance from the existing grid network below which we can assume a settlement could be electrified"
   ]
  },
  {
   "cell_type": "code",
   "execution_count": 32,
   "metadata": {},
   "outputs": [
    {
     "name": "stderr",
     "output_type": "stream",
     "text": [
      "2019-04-05 09:27:10,820\t\tCalibrate current electrification\n"
     ]
    },
    {
     "name": "stdout",
     "output_type": "stream",
     "text": [
      "We have identified the existence of transformers or MV lines as input data; therefore we proceed using those for the calibration\n",
      "The rural settlements identified as electrified are lower than in statistics; Please re-adjust the calibration conditions\n",
      "The modelled electrification rate achieved is 0.17.Urban elec. rate is 0.39 and Rural elec. rate is 0.00. \n",
      "If this is not acceptable please revise this part of the algorithm\n"
     ]
    }
   ],
   "source": [
    "Technology.set_default_values(base_year=start_year, start_year=start_year, end_year=end_year, discount_rate=discount_rate)\n",
    "\n",
    "elec_modelled, urban_internal_elec_ratio, rural_internal_elec_ratio = onsseter.elec_current_and_future(elec_ratio_start_year, urban_elec_ratio, rural_elec_ratio, pop_start_year, start_year) \n",
    "\n",
    "onsseter.grid_reach_estimate(start_year, gridspeed=9999)"
   ]
  },
  {
   "cell_type": "code",
   "execution_count": 31,
   "metadata": {},
   "outputs": [
    {
     "data": {
      "text/plain": [
       "<Figure size 720x720 with 0 Axes>"
      ]
     },
     "execution_count": 31,
     "metadata": {},
     "output_type": "execute_result"
    },
    {
     "name": "stderr",
     "output_type": "stream",
     "text": [
      "2019-04-05 09:25:57,291\t\tupdate_title_pos\n",
      "2019-04-05 09:25:57,349\t\tupdate_title_pos\n",
      "2019-04-05 09:25:57,425\t\tupdate_title_pos\n",
      "2019-04-05 09:25:57,464\t\tupdate_title_pos\n",
      "2019-04-05 09:25:57,483\t\tupdate_title_pos\n"
     ]
    },
    {
     "data": {
      "image/png": "[encoded data removed]",
      "text/plain": [
       "<Figure size 648x648 with 1 Axes>"
      ]
     },
     "metadata": {
      "needs_background": "light"
     },
     "output_type": "display_data"
    },
    {
     "data": {
      "text/plain": [
       "<Figure size 720x720 with 0 Axes>"
      ]
     },
     "metadata": {},
     "output_type": "display_data"
    }
   ],
   "source": [
    "from matplotlib import pyplot as plt\n",
    "colors = ['#73B2FF','#EDD100','#EDA800','#1F6600','#98E600','#70A800','#1FA800']\n",
    "plt.figure(figsize=(9,9))\n",
    "plt.plot(onsseter.df.loc[onsseter.df[SET_ELEC_CURRENT]==0, SET_X_DEG], onsseter.df.loc[onsseter.df[SET_ELEC_CURRENT]==0, SET_Y_DEG], 'g,')\n",
    "plt.plot(onsseter.df.loc[onsseter.df[SET_ELEC_CURRENT]==1, SET_X_DEG], onsseter.df.loc[onsseter.df[SET_ELEC_CURRENT]==1, SET_Y_DEG], 'b,')\n",
    "if onsseter.df[SET_X_DEG].max() - onsseter.df[SET_X_DEG].min() > onsseter.df[SET_Y_DEG].max() - onsseter.df[SET_Y_DEG].min():\n",
    "    plt.xlim(onsseter.df[SET_X_DEG].min() - 1, onsseter.df[SET_X_DEG].max() + 1)\n",
    "    plt.ylim((onsseter.df[SET_Y_DEG].min()+onsseter.df[SET_Y_DEG].max())/2 - 0.5*abs(onsseter.df[SET_X_DEG].max() - onsseter.df[SET_X_DEG].min()) - 1, (onsseter.df[SET_Y_DEG].min()+onsseter.df[SET_Y_DEG].max())/2 + 0.5*abs(onsseter.df[SET_X_DEG].max() - onsseter.df[SET_X_DEG].min()) + 1)\n",
    "else:\n",
    "    plt.xlim((onsseter.df[SET_X_DEG].min()+onsseter.df[SET_X_DEG].max())/2 - 0.5*abs(onsseter.df[SET_Y_DEG].max() - onsseter.df[SET_Y_DEG].min()) - 1, (onsseter.df[SET_X_DEG].min()+onsseter.df[SET_X_DEG].max())/2 + 0.5*abs(onsseter.df[SET_Y_DEG].max() - onsseter.df[SET_Y_DEG].min()) + 1)\n",
    "    plt.ylim(onsseter.df[SET_Y_DEG].min() -1, onsseter.df[SET_Y_DEG].max() +1)\n",
    "plt.figure(figsize=(10,10))"
   ]
  },
  {
   "cell_type": "code",
   "execution_count": null,
   "metadata": {},
   "outputs": [],
   "source": []
  },
  {
   "cell_type": "code",
   "execution_count": null,
   "metadata": {},
   "outputs": [],
   "source": [
    "# Define the annual household electricity targets to choose from\n",
    "tier_1 = 38.7  # 38.7 refers to kWh/household/year. \n",
    "tier_2 = 219\n",
    "tier_3 = 803\n",
    "tier_4 = 2117\n",
    "tier_5 = 2993\n",
    "\n",
    "onsseter.prepare_wtf_tier_columns(num_people_per_hh_rural, num_people_per_hh_urban, tier_1, tier_2, tier_3, tier_4, tier_5)"
   ]
  },
  {
   "cell_type": "code",
   "execution_count": null,
   "metadata": {},
   "outputs": [],
   "source": [
    "onsseter.df[SET_EDU_DEMAND] = 0\n",
    "onsseter.df[SET_HEALTH_DEMAND] = 0\n",
    "onsseter.df[SET_COMMERCIAL_DEMAND] = 0\n",
    "onsseter.df[SET_AGRI_DEMAND] = 0"
   ]
  },
  {
   "cell_type": "markdown",
   "metadata": {},
   "source": [
    "# An illustrative example\n",
    "\n",
    "Every technology yields a different Levelized Cost for electricity production (LCoE) based on specific characteristics such as the population size and resource availability and/or cost. To illustrate, the cost of providing electricity in a low populated, isolated location (far from grid and roads) will probably be a more demanding (thus expensive) task than a high populated urban settlement. \n",
    "\n",
    "Here is an example of how the different technologies perform under the following assumptions:\n",
    " - Distance from the National Electricity grid: 20 km\n",
    " - Global Horizontal Irradiation: 1500 kWh/m2/year\n",
    " - Hydro Availability: Positive\n",
    " - Diesel price: 0.345 USD/liter\n",
    " #### Note: this block takes a bit of time"
   ]
  },
  {
   "cell_type": "code",
   "execution_count": null,
   "metadata": {},
   "outputs": [],
   "source": [
    "display(Markdown('#### Example of LCoE variation (in USD/kWh) per technology depending on settlement size'))\n",
    "\n",
    "lcoe_eg_people = [10, 100, 500, 1000, 2000, 5000]\n",
    "lcoe_eg_people_display = ['{} people'.format(p) for p in lcoe_eg_people]\n",
    "lcoe_sample = pd.DataFrame(columns=['grid', 'sa_diesel','sa_pv','mg_diesel','mg_pv','mg_wind','mg_hydro'],\n",
    "                           index=lcoe_eg_people_display)\n",
    "\n",
    "\n",
    "lcoe_sample['grid'] = [Technology.get_lcoe(grid_calc, energy_per_hh_urban, p, num_people_per_hh_urban, 20) for p in lcoe_eg_people]\n",
    "lcoe_sample['mg_wind'] = [Technology.get_lcoe(mg_wind_calc, energy_per_hh_urban, p, num_people_per_hh_urban, capacity_factor=0.15)\n",
    "                          for p in lcoe_eg_people]\n",
    "lcoe_sample['mg_hydro'] = [Technology.get_lcoe(mg_hydro_calc, energy_per_hh_urban, p, num_people_per_hh_urban)\n",
    "                           for p in lcoe_eg_people]\n",
    "lcoe_sample['mg_pv'] = [Technology.get_lcoe(mg_pv_calc, energy_per_hh_urban, p, num_people_per_hh_urban, capacity_factor=0.25)\n",
    "                        for p in lcoe_eg_people]\n",
    "lcoe_sample['mg_diesel'] = [Technology.get_lcoe(mg_diesel_calc, energy_per_hh_urban, p, num_people_per_hh_urban, capacity_factor=1) \n",
    "                            for p in lcoe_eg_people]\n",
    "lcoe_sample['sa_pv'] = [Technology.get_lcoe(sa_pv_calc, energy_per_hh_urban, p, num_people_per_hh_urban, capacity_factor=0.25)\n",
    "                        for p in lcoe_eg_people]\n",
    "lcoe_sample['sa_diesel'] = [Technology.get_lcoe(sa_diesel_calc, energy_per_hh_urban, p, num_people_per_hh_urban, capacity_factor=1) \n",
    "                            for p in lcoe_eg_people]\n",
    "lcoe_sample.head(10)"
   ]
  },
  {
   "cell_type": "markdown",
   "metadata": {},
   "source": [
    "# Step 5. Calculate and compare technology costs for every settlement in the country\n",
    "\n",
    "Based on the previous calculation this piece of code identifies the LCoE that every off-grid technology can provide, for each single populated settlement of the selected country. The cell then takes all the currently grid-connected points in the country, and looks at the points within a certain distance from them, to see if it is more ecnomical to connect them to the grid, or to use one of the off-grid technologies calculated above. Once more points are connected to the grid, the process is repeated, so that new points close to those points might also be connected. This is repeated until there are no new points to connect to the grid."
   ]
  },
  {
   "cell_type": "code",
   "execution_count": null,
   "metadata": {},
   "outputs": [],
   "source": [
    "urban_tier = 5     ###  According to the MTF. The tiers in kWh/person/year (examples for Tier 1-5 are 8, 44, 160, 423, 598)\n",
    "rural_tier = 2     ###  According to the MTF. The tiers in kWh/person/year (examples for Tier 1-5 are 8, 44, 160, 423, 598)"
   ]
  },
  {
   "cell_type": "code",
   "execution_count": null,
   "metadata": {},
   "outputs": [],
   "source": [
    "annual_grid_cap_gen_limit = 400 # This is the maximum generation capacity that can be added to the grid in one year (MW)\n",
    "annual_new_grid_connections_limit = 1000 # This is the maximum amount of new households that can be connected to the grid in one year (thousands)\n",
    "pop_high = 1 # 1 if using the high end year populations, 0 to use the lower end year population\n",
    "productive_demand = 0 # 1 if productive demand is defined and should be included, else 0\n",
    "auto_intensification = 2 # The number of kilometers from the existing network where grid-extension will be chosen by default, if the second prioritization algorithm is selected\n",
    "prioritization = 2 # Prioritization algorithm. Available choices are: 1 or 2"
   ]
  },
  {
   "cell_type": "code",
   "execution_count": null,
   "metadata": {},
   "outputs": [],
   "source": [
    "onsseter.current_mv_line_dist()\n",
    "\n",
    "for year in yearsofanalysis:\n",
    "    if pop_high == 1:\n",
    "        end_year_pop = pop_end_year_high\n",
    "    else: \n",
    "        end_year_pop = pop_end_year_low\n",
    "        \n",
    "    eleclimit = eleclimits[year]\n",
    "    time_step = time_steps[year]\n",
    "    grid_cap_gen_limit = time_step * annual_grid_cap_gen_limit\n",
    "    grid_connect_limit = time_step * annual_new_grid_connections_limit\n",
    "    \n",
    "    onsseter.set_scenario_variables(year, num_people_per_hh_rural, num_people_per_hh_urban, time_step,\n",
    "                                            start_year, urban_elec_ratio, rural_elec_ratio, urban_tier, rural_tier,\n",
    "                                            end_year_pop, productive_demand)\n",
    "\n",
    "    onsseter.calculate_off_grid_lcoes(mg_hydro_calc, mg_wind_calc, mg_pv_calc, sa_pv_calc, mg_diesel_calc,\n",
    "                                        sa_diesel_calc, 0, 0, 0, 0, 0, year, start_year, end_year, time_step)\n",
    "\n",
    "    onsseter.pre_electrification(grid_calc, grid_generation_cost, year, time_step, start_year)\n",
    "\n",
    "    onsseter.run_elec(grid_calc, max_mv_line_dist, year, start_year, end_year, time_step,\n",
    "                              grid_cap_gen_limit, grid_connect_limit, auto_intensification, prioritization)\n",
    "\n",
    "    onsseter.results_columns(mg_hydro_calc, mg_wind_calc, mg_pv_calc, sa_pv_calc, mg_diesel_calc,\n",
    "                                     sa_diesel_calc, grid_calc, 0, 0, 0, 0, 0, year)\n",
    "\n",
    "    onsseter.calculate_investments(mg_hydro_calc, mg_wind_calc, mg_pv_calc, sa_pv_calc, mg_diesel_calc,\n",
    "                                           sa_diesel_calc, grid_calc, 0, 0, 0, 0, 0, year, end_year, time_step)\n",
    "\n",
    "    onsseter.apply_limitations(eleclimit, year, time_step, prioritization, auto_intensification)\n",
    "\n",
    "    onsseter.final_decision(mg_hydro_calc, mg_wind_calc, mg_pv_calc, sa_pv_calc, mg_diesel_calc, sa_diesel_calc,\n",
    "                                    grid_calc, 0, 0, 0, 0, 0, year, end_year, time_step)    "
   ]
  },
  {
   "cell_type": "markdown",
   "metadata": {},
   "source": [
    "# Step 6 - Results, Summaries and Visualization\n",
    "With all the calculations and grid-extensions complete, this block gets the final results on which technology was chosen for each point, how much capacity needs to be installed and what it will cost. Then the summaries, plots and maps are generated."
   ]
  },
  {
   "cell_type": "code",
   "execution_count": null,
   "metadata": {
    "scrolled": false
   },
   "outputs": [],
   "source": [
    "elements = [\"Population\", \"New_Connections\", \"Capacity\", \"Investment\"]\n",
    "techs = [\"Grid\", \"SA_Diesel\", \"SA_PV\", \"MG_Diesel\", \"MG_PV\", \"MG_Wind\", \"MG_Hydro\"]\n",
    "\n",
    "sumtechs = []\n",
    "\n",
    "sumtechs.extend([\"Population\" + t for t in techs])\n",
    "sumtechs.extend([\"New_Connections\" + t for t in techs])\n",
    "sumtechs.extend([\"Capacity\" + t for t in techs])\n",
    "sumtechs.extend([\"Investment\" + t for t in techs])\n",
    "summary = pd.Series(index=sumtechs, name=country)\n",
    "                    \n",
    "for t in techs:\n",
    "    summary.loc[\"Population\" + t] = onsseter.df.loc[onsseter.df[SET_MIN_OVERALL + '2030'] == t + '2030', SET_POP + '2030'].sum()\n",
    "    summary.loc[\"New_Connections\" + t] = onsseter.df.loc[onsseter.df[SET_MIN_OVERALL + '2030'] == t + '2030', SET_NEW_CONNECTIONS + '2030'].sum()\n",
    "    summary.loc[\"Capacity\" + t] = onsseter.df.loc[onsseter.df[SET_MIN_OVERALL + '2030'] == t + '2030', SET_NEW_CAPACITY + '2030'].sum()/1000\n",
    "    summary.loc[\"Investment\" + t] = onsseter.df.loc[onsseter.df[SET_MIN_OVERALL + '2030'] == t + '2030', SET_INVESTMENT_COST + '2030'].sum()\n",
    "    \n",
    "index = techs + ['Total']\n",
    "columns = ['Population', 'New connections', 'Capacity (MW)', 'Investments (million USD)']\n",
    "summary_table = pd.DataFrame(index=index, columns=columns)\n",
    "\n",
    "summary_table[columns[0]] = summary.iloc[0:7].astype(int).tolist() + [int(summary.iloc[0:7].sum())]\n",
    "summary_table[columns[1]] = summary.iloc[7:14].astype(int).tolist() + [int(summary.iloc[7:14].sum())]\n",
    "summary_table[columns[2]] = summary.iloc[14:21].astype(int).tolist() + [int(summary.iloc[14:21].sum())]\n",
    "summary_table[columns[3]] = [round(x/1e4)/1e2 for x in summary.iloc[21:28].astype(float).tolist()] + [round(summary.iloc[21:28].sum()/1e4)/1e2]\n",
    "#summary_table.head(10)"
   ]
  },
  {
   "cell_type": "code",
   "execution_count": null,
   "metadata": {},
   "outputs": [],
   "source": [
    "display(Markdown('### Summary \\n These are the summarized results for full electrification of the selected country by the final year'))\n",
    "summary_table"
   ]
  },
  {
   "cell_type": "code",
   "execution_count": null,
   "metadata": {
    "scrolled": false
   },
   "outputs": [],
   "source": [
    "import matplotlib.pylab as plt\n",
    "import seaborn as sns\n",
    "\n",
    "colors = ['#73B2FF','#EDD100','#EDA800','#1F6600','#98E600','#70A800','#1FA800']\n",
    "techs_colors = dict(zip(techs, colors))\n",
    "\n",
    "summary_plot=summary_table.drop(labels='Total',axis=0)\n",
    "fig_size = [15, 15]\n",
    "font_size = 10\n",
    "plt.rcParams[\"figure.figsize\"] = fig_size\n",
    "f, axarr = plt.subplots(2, 2)\n",
    "fig_size = [15, 15]\n",
    "font_size = 10\n",
    "plt.rcParams[\"figure.figsize\"] = fig_size\n",
    "\n",
    "sns.barplot(x=summary_plot.index.tolist(), y=columns[0], data=summary_plot, ax=axarr[0, 0], palette=colors)\n",
    "axarr[0, 0].set_ylabel(columns[0], fontsize=2*font_size)\n",
    "axarr[0, 0].tick_params(labelsize=font_size)\n",
    "sns.barplot(x=summary_plot.index.tolist(), y=columns[1], data=summary_plot, ax=axarr[0, 1], palette=colors)\n",
    "axarr[0, 1].set_ylabel(columns[1], fontsize=2*font_size)\n",
    "axarr[0, 1].tick_params(labelsize=font_size)\n",
    "sns.barplot(x=summary_plot.index.tolist(), y=columns[2], data=summary_plot, ax=axarr[1, 0], palette=colors)\n",
    "axarr[1, 0].set_ylabel(columns[2], fontsize=2*font_size)\n",
    "axarr[1, 0].tick_params(labelsize=font_size)\n",
    "sns.barplot(x=summary_plot.index.tolist(), y=columns[3], data=summary_plot, ax=axarr[1, 1], palette=colors)\n",
    "axarr[1, 1].set_ylabel(columns[3], fontsize=2*font_size)\n",
    "axarr[1, 1].tick_params(labelsize=font_size)"
   ]
  },
  {
   "cell_type": "code",
   "execution_count": null,
   "metadata": {},
   "outputs": [],
   "source": [
    "from matplotlib import pyplot as plt\n",
    "colors = ['#73B2FF','#EDD100','#EDA800','#1F6600','#98E600','#70A800','#1FA800']\n",
    "plt.figure(figsize=(9,9))\n",
    "plt.plot(onsseter.df.loc[onsseter.df['FinalElecCode2030']==3, SET_X_DEG], onsseter.df.loc[onsseter.df['FinalElecCode2030']==3, SET_Y_DEG], color='#EDA800', marker=',', linestyle='none')\n",
    "plt.plot(onsseter.df.loc[onsseter.df['FinalElecCode2030']==2, SET_X_DEG], onsseter.df.loc[onsseter.df['FinalElecCode2030']==2, SET_Y_DEG], color='#EDD100', marker=',', linestyle='none')\n",
    "plt.plot(onsseter.df.loc[onsseter.df['FinalElecCode2030']==4, SET_X_DEG], onsseter.df.loc[onsseter.df['FinalElecCode2030']==4, SET_Y_DEG], color='#1F6600', marker=',', linestyle='none')\n",
    "plt.plot(onsseter.df.loc[onsseter.df['FinalElecCode2030']==5, SET_X_DEG], onsseter.df.loc[onsseter.df['FinalElecCode2030']==5, SET_Y_DEG], color='#98E600', marker=',', linestyle='none')\n",
    "plt.plot(onsseter.df.loc[onsseter.df['FinalElecCode2030']==6, SET_X_DEG], onsseter.df.loc[onsseter.df['FinalElecCode2030']==6, SET_Y_DEG], color='#70A800', marker=',', linestyle='none')\n",
    "plt.plot(onsseter.df.loc[onsseter.df['FinalElecCode2030']==7, SET_X_DEG], onsseter.df.loc[onsseter.df['FinalElecCode2030']==7, SET_Y_DEG], color='#1FA800', marker=',', linestyle='none')\n",
    "plt.plot(onsseter.df.loc[onsseter.df['FinalElecCode2030']==1, SET_X_DEG], onsseter.df.loc[onsseter.df['FinalElecCode2030']==1, SET_Y_DEG], color='#73B2FF', marker='.', linestyle='none')\n",
    "if onsseter.df[SET_X_DEG].max() - onsseter.df[SET_X_DEG].min() > onsseter.df[SET_Y_DEG].max() - onsseter.df[SET_Y_DEG].min():\n",
    "    plt.xlim(onsseter.df[SET_X_DEG].min() - 1, onsseter.df[SET_X_DEG].max() + 1)\n",
    "    plt.ylim((onsseter.df[SET_Y_DEG].min()+onsseter.df[SET_Y_DEG].max())/2 - 0.5*abs(onsseter.df[SET_X_DEG].max() - onsseter.df[SET_X_DEG].min()) - 1, (onsseter.df[SET_Y_DEG].min()+onsseter.df[SET_Y_DEG].max())/2 + 0.5*abs(onsseter.df[SET_X_DEG].max() - onsseter.df[SET_X_DEG].min()) + 1)\n",
    "else:\n",
    "    plt.xlim((onsseter.df[SET_X_DEG].min()+onsseter.df[SET_X_DEG].max())/2 - 0.5*abs(onsseter.df[SET_Y_DEG].max() - onsseter.df[SET_Y_DEG].min()) - 1, (onsseter.df[SET_X_DEG].min()+onsseter.df[SET_X_DEG].max())/2 + 0.5*abs(onsseter.df[SET_Y_DEG].max() - onsseter.df[SET_Y_DEG].min()) + 1)\n",
    "    plt.ylim(onsseter.df[SET_Y_DEG].min() -1, onsseter.df[SET_Y_DEG].max() +1)\n",
    "plt.figure(figsize=(10,10))"
   ]
  },
  {
   "cell_type": "markdown",
   "metadata": {},
   "source": [
    "## Exporting results\n",
    "\n",
    "This code generates two csv files:\n",
    " - one containing all the results for the scenario created\n",
    " - one containing the summary for the scenario created\n"
   ]
  },
  {
   "cell_type": "code",
   "execution_count": null,
   "metadata": {},
   "outputs": [],
   "source": [
    "# Returning the result as a csv file\n",
    "df.to_csv(r\"Results/Results_{c}_{sc}_{gp}_{dp}.csv\".format(c=country, sc=energy_per_hh_urban, gp=grid_generation_cost, dp=diesel_price), index=False)\n",
    "\n",
    "# Returning the summary as a csv file\n",
    "summary_table.to_csv(r\"Results/Summary_{c}_{sc}_{gp}_{dp}.csv\".format(c=country, sc=energy_per_hh_urban, gp=grid_generation_cost, dp=diesel_price), index=True)"
   ]
  }
 ],
 "metadata": {
  "anaconda-cloud": {},
  "celltoolbar": "Raw Cell Format",
  "kernelspec": {
   "display_name": "Python 3",
   "language": "python",
   "name": "python3"
  },
  "language_info": {
   "codemirror_mode": {
    "name": "ipython",
    "version": 3
   },
   "file_extension": ".py",
   "mimetype": "text/x-python",
   "name": "python",
   "nbconvert_exporter": "python",
   "pygments_lexer": "ipython3",
   "version": "3.7.1"
  }
 },
 "nbformat": 4,
 "nbformat_minor": 2
}
